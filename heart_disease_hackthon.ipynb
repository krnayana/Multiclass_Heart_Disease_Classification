{
  "cells": [
    {
      "cell_type": "code",
      "execution_count": 212,
      "metadata": {
        "id": "C3LO_lXiUiH9"
      },
      "outputs": [],
      "source": [
        "import warnings\n",
        "warnings.filterwarnings('ignore')\n",
        "import os\n",
        "import csv\n",
        "import itertools\n",
        "import pandas as pd\n",
        "import numpy as np\n",
        "import seaborn as sns\n",
        "import matplotlib.pyplot as plt\n",
        "from sklearn.svm import LinearSVC,SVC\n",
        "from sklearn.multiclass import OneVsRestClassifier\n",
        "from collections import Counter\n",
        "from imblearn.over_sampling import SMOTE\n",
        "from sklearn.linear_model import LassoCV,LogisticRegression,SGDClassifier\n",
        "from sklearn.naive_bayes import GaussianNB,BernoulliNB\n",
        "from xgboost import XGBClassifier\n",
        "from sklearn.tree import DecisionTreeClassifier\n",
        "from sklearn.neighbors import KNeighborsClassifier\n",
        "from sklearn.ensemble import RandomForestClassifier,ExtraTreesClassifier,BaggingClassifier,AdaBoostClassifier,GradientBoostingClassifier,VotingClassifier,StackingClassifier\n",
        "from sklearn.feature_selection import chi2,SelectKBest,SelectFromModel,RFE,VarianceThreshold\n",
        "from sklearn.metrics import confusion_matrix,precision_recall_curve,average_precision_score,roc_curve,auc,f1_score,accuracy_score,\\\n",
        "classification_report,multilabel_confusion_matrix, roc_auc_score,precision_recall_fscore_support\n",
        "from sklearn.model_selection import cross_val_score,train_test_split,StratifiedKFold,GridSearchCV\n",
        "from sklearn.preprocessing import MinMaxScaler,StandardScaler,RobustScaler,LabelEncoder,LabelBinarizer\n",
        "from scipy import interp\n",
        "from itertools import cycle\n",
        "plt.style.use('ggplot');\n",
        "import sys\n",
        "if (\"/your/path/to/xelatex\") not in sys.path:\n",
        "    print('adding path') # I just add this to know if the path was present or not.\n",
        "    sys.path.append(\"/your/path/to/xelatex\")"
      ]
    },
    {
      "cell_type": "markdown",
      "metadata": {
        "id": "Mh5LNnChU1cE"
      },
      "source": [
        "### *Reading the data*"
      ]
    },
    {
      "cell_type": "code",
      "execution_count": 260,
      "metadata": {
        "colab": {
          "base_uri": "https://localhost:8080/",
          "height": 206
        },
        "id": "Yx3FDNToSY2f",
        "outputId": "a8de703c-2e92-45d9-acfd-0324ad07a766"
      },
      "outputs": [
        {
          "output_type": "execute_result",
          "data": {
            "text/plain": [
              "    age   sex      cp  trestbps   chol   fbs restecg  thalach exang  oldpeak  \\\n",
              "0  63.0  male  angina     145.0  233.0  true     hyp    150.0   fal      2.3   \n",
              "1  67.0  male  asympt     160.0  286.0   fal     hyp    108.0  true      1.5   \n",
              "2  67.0  male  asympt     120.0  229.0   fal     hyp    129.0  true      2.6   \n",
              "3  37.0  male  notang     130.0  250.0   fal    norm    187.0   fal      3.5   \n",
              "4  41.0   fem  abnang     130.0  204.0   fal     hyp    172.0   fal      1.4   \n",
              "\n",
              "  slope   ca  thal target  \n",
              "0  down  0.0   fix      H  \n",
              "1  flat  3.0  norm     S2  \n",
              "2  flat  2.0   rev     S1  \n",
              "3  down  0.0  norm      H  \n",
              "4    up  0.0  norm      H  "
            ],
            "text/html": [
              "\n",
              "  <div id=\"df-0cff8384-9e8f-4a9a-b735-ee7afcaad020\">\n",
              "    <div class=\"colab-df-container\">\n",
              "      <div>\n",
              "<style scoped>\n",
              "    .dataframe tbody tr th:only-of-type {\n",
              "        vertical-align: middle;\n",
              "    }\n",
              "\n",
              "    .dataframe tbody tr th {\n",
              "        vertical-align: top;\n",
              "    }\n",
              "\n",
              "    .dataframe thead th {\n",
              "        text-align: right;\n",
              "    }\n",
              "</style>\n",
              "<table border=\"1\" class=\"dataframe\">\n",
              "  <thead>\n",
              "    <tr style=\"text-align: right;\">\n",
              "      <th></th>\n",
              "      <th>age</th>\n",
              "      <th>sex</th>\n",
              "      <th>cp</th>\n",
              "      <th>trestbps</th>\n",
              "      <th>chol</th>\n",
              "      <th>fbs</th>\n",
              "      <th>restecg</th>\n",
              "      <th>thalach</th>\n",
              "      <th>exang</th>\n",
              "      <th>oldpeak</th>\n",
              "      <th>slope</th>\n",
              "      <th>ca</th>\n",
              "      <th>thal</th>\n",
              "      <th>target</th>\n",
              "    </tr>\n",
              "  </thead>\n",
              "  <tbody>\n",
              "    <tr>\n",
              "      <th>0</th>\n",
              "      <td>63.0</td>\n",
              "      <td>male</td>\n",
              "      <td>angina</td>\n",
              "      <td>145.0</td>\n",
              "      <td>233.0</td>\n",
              "      <td>true</td>\n",
              "      <td>hyp</td>\n",
              "      <td>150.0</td>\n",
              "      <td>fal</td>\n",
              "      <td>2.3</td>\n",
              "      <td>down</td>\n",
              "      <td>0.0</td>\n",
              "      <td>fix</td>\n",
              "      <td>H</td>\n",
              "    </tr>\n",
              "    <tr>\n",
              "      <th>1</th>\n",
              "      <td>67.0</td>\n",
              "      <td>male</td>\n",
              "      <td>asympt</td>\n",
              "      <td>160.0</td>\n",
              "      <td>286.0</td>\n",
              "      <td>fal</td>\n",
              "      <td>hyp</td>\n",
              "      <td>108.0</td>\n",
              "      <td>true</td>\n",
              "      <td>1.5</td>\n",
              "      <td>flat</td>\n",
              "      <td>3.0</td>\n",
              "      <td>norm</td>\n",
              "      <td>S2</td>\n",
              "    </tr>\n",
              "    <tr>\n",
              "      <th>2</th>\n",
              "      <td>67.0</td>\n",
              "      <td>male</td>\n",
              "      <td>asympt</td>\n",
              "      <td>120.0</td>\n",
              "      <td>229.0</td>\n",
              "      <td>fal</td>\n",
              "      <td>hyp</td>\n",
              "      <td>129.0</td>\n",
              "      <td>true</td>\n",
              "      <td>2.6</td>\n",
              "      <td>flat</td>\n",
              "      <td>2.0</td>\n",
              "      <td>rev</td>\n",
              "      <td>S1</td>\n",
              "    </tr>\n",
              "    <tr>\n",
              "      <th>3</th>\n",
              "      <td>37.0</td>\n",
              "      <td>male</td>\n",
              "      <td>notang</td>\n",
              "      <td>130.0</td>\n",
              "      <td>250.0</td>\n",
              "      <td>fal</td>\n",
              "      <td>norm</td>\n",
              "      <td>187.0</td>\n",
              "      <td>fal</td>\n",
              "      <td>3.5</td>\n",
              "      <td>down</td>\n",
              "      <td>0.0</td>\n",
              "      <td>norm</td>\n",
              "      <td>H</td>\n",
              "    </tr>\n",
              "    <tr>\n",
              "      <th>4</th>\n",
              "      <td>41.0</td>\n",
              "      <td>fem</td>\n",
              "      <td>abnang</td>\n",
              "      <td>130.0</td>\n",
              "      <td>204.0</td>\n",
              "      <td>fal</td>\n",
              "      <td>hyp</td>\n",
              "      <td>172.0</td>\n",
              "      <td>fal</td>\n",
              "      <td>1.4</td>\n",
              "      <td>up</td>\n",
              "      <td>0.0</td>\n",
              "      <td>norm</td>\n",
              "      <td>H</td>\n",
              "    </tr>\n",
              "  </tbody>\n",
              "</table>\n",
              "</div>\n",
              "      <button class=\"colab-df-convert\" onclick=\"convertToInteractive('df-0cff8384-9e8f-4a9a-b735-ee7afcaad020')\"\n",
              "              title=\"Convert this dataframe to an interactive table.\"\n",
              "              style=\"display:none;\">\n",
              "        \n",
              "  <svg xmlns=\"http://www.w3.org/2000/svg\" height=\"24px\"viewBox=\"0 0 24 24\"\n",
              "       width=\"24px\">\n",
              "    <path d=\"M0 0h24v24H0V0z\" fill=\"none\"/>\n",
              "    <path d=\"M18.56 5.44l.94 2.06.94-2.06 2.06-.94-2.06-.94-.94-2.06-.94 2.06-2.06.94zm-11 1L8.5 8.5l.94-2.06 2.06-.94-2.06-.94L8.5 2.5l-.94 2.06-2.06.94zm10 10l.94 2.06.94-2.06 2.06-.94-2.06-.94-.94-2.06-.94 2.06-2.06.94z\"/><path d=\"M17.41 7.96l-1.37-1.37c-.4-.4-.92-.59-1.43-.59-.52 0-1.04.2-1.43.59L10.3 9.45l-7.72 7.72c-.78.78-.78 2.05 0 2.83L4 21.41c.39.39.9.59 1.41.59.51 0 1.02-.2 1.41-.59l7.78-7.78 2.81-2.81c.8-.78.8-2.07 0-2.86zM5.41 20L4 18.59l7.72-7.72 1.47 1.35L5.41 20z\"/>\n",
              "  </svg>\n",
              "      </button>\n",
              "      \n",
              "  <style>\n",
              "    .colab-df-container {\n",
              "      display:flex;\n",
              "      flex-wrap:wrap;\n",
              "      gap: 12px;\n",
              "    }\n",
              "\n",
              "    .colab-df-convert {\n",
              "      background-color: #E8F0FE;\n",
              "      border: none;\n",
              "      border-radius: 50%;\n",
              "      cursor: pointer;\n",
              "      display: none;\n",
              "      fill: #1967D2;\n",
              "      height: 32px;\n",
              "      padding: 0 0 0 0;\n",
              "      width: 32px;\n",
              "    }\n",
              "\n",
              "    .colab-df-convert:hover {\n",
              "      background-color: #E2EBFA;\n",
              "      box-shadow: 0px 1px 2px rgba(60, 64, 67, 0.3), 0px 1px 3px 1px rgba(60, 64, 67, 0.15);\n",
              "      fill: #174EA6;\n",
              "    }\n",
              "\n",
              "    [theme=dark] .colab-df-convert {\n",
              "      background-color: #3B4455;\n",
              "      fill: #D2E3FC;\n",
              "    }\n",
              "\n",
              "    [theme=dark] .colab-df-convert:hover {\n",
              "      background-color: #434B5C;\n",
              "      box-shadow: 0px 1px 3px 1px rgba(0, 0, 0, 0.15);\n",
              "      filter: drop-shadow(0px 1px 2px rgba(0, 0, 0, 0.3));\n",
              "      fill: #FFFFFF;\n",
              "    }\n",
              "  </style>\n",
              "\n",
              "      <script>\n",
              "        const buttonEl =\n",
              "          document.querySelector('#df-0cff8384-9e8f-4a9a-b735-ee7afcaad020 button.colab-df-convert');\n",
              "        buttonEl.style.display =\n",
              "          google.colab.kernel.accessAllowed ? 'block' : 'none';\n",
              "\n",
              "        async function convertToInteractive(key) {\n",
              "          const element = document.querySelector('#df-0cff8384-9e8f-4a9a-b735-ee7afcaad020');\n",
              "          const dataTable =\n",
              "            await google.colab.kernel.invokeFunction('convertToInteractive',\n",
              "                                                     [key], {});\n",
              "          if (!dataTable) return;\n",
              "\n",
              "          const docLinkHtml = 'Like what you see? Visit the ' +\n",
              "            '<a target=\"_blank\" href=https://colab.research.google.com/notebooks/data_table.ipynb>data table notebook</a>'\n",
              "            + ' to learn more about interactive tables.';\n",
              "          element.innerHTML = '';\n",
              "          dataTable['output_type'] = 'display_data';\n",
              "          await google.colab.output.renderOutput(dataTable, element);\n",
              "          const docLink = document.createElement('div');\n",
              "          docLink.innerHTML = docLinkHtml;\n",
              "          element.appendChild(docLink);\n",
              "        }\n",
              "      </script>\n",
              "    </div>\n",
              "  </div>\n",
              "  "
            ]
          },
          "metadata": {},
          "execution_count": 260
        }
      ],
      "source": [
        "with open('/content/drive/MyDrive/hackthon/cleve.mod', 'r') as in_file:\n",
        "    lines = in_file.read().splitlines()[20:]\n",
        "    stripped = [line.replace(\",\",\" \").split() for line in lines]\n",
        "    grouped = zip(*[stripped]*1)\n",
        "    with open('cleve.csv', 'w') as out_file:\n",
        "        writer = csv.writer(out_file)\n",
        "        for group in grouped:\n",
        "            writer.writerows(group)\n",
        "\n",
        "names = [\n",
        "    'age', 'sex','cp','trestbps','chol','fbs','restecg','thalach',\n",
        "    'exang','oldpeak','slope','ca','thal','target'\n",
        "]\n",
        "df = pd.read_csv('cleve.csv',header=None)\n",
        "df.drop(13, inplace=True,axis=1)\n",
        "df.columns = names\n",
        "df.head()"
      ]
    },
    {
      "cell_type": "code",
      "execution_count": 261,
      "metadata": {
        "colab": {
          "base_uri": "https://localhost:8080/"
        },
        "id": "ry7TNJ4wZbtY",
        "outputId": "0bee4258-bc3b-4b24-df6c-0f421c18ee18"
      },
      "outputs": [
        {
          "output_type": "execute_result",
          "data": {
            "text/plain": [
              "(303, 14)"
            ]
          },
          "metadata": {},
          "execution_count": 261
        }
      ],
      "source": [
        "df.shape"
      ]
    },
    {
      "cell_type": "code",
      "execution_count": 262,
      "metadata": {
        "colab": {
          "base_uri": "https://localhost:8080/"
        },
        "id": "8ZwVVddnZige",
        "outputId": "cb92fdc7-0586-4170-ce1a-c6a10e462a93"
      },
      "outputs": [
        {
          "output_type": "execute_result",
          "data": {
            "text/plain": [
              "age         float64\n",
              "sex          object\n",
              "cp           object\n",
              "trestbps    float64\n",
              "chol        float64\n",
              "fbs          object\n",
              "restecg      object\n",
              "thalach     float64\n",
              "exang        object\n",
              "oldpeak     float64\n",
              "slope        object\n",
              "ca           object\n",
              "thal         object\n",
              "target       object\n",
              "dtype: object"
            ]
          },
          "metadata": {},
          "execution_count": 262
        }
      ],
      "source": [
        "df.dtypes"
      ]
    },
    {
      "cell_type": "code",
      "execution_count": 263,
      "metadata": {
        "colab": {
          "base_uri": "https://localhost:8080/"
        },
        "id": "H9IC-SY-Zkk8",
        "outputId": "b5cfd447-5f40-425c-a73b-d3f7a42a04cf"
      },
      "outputs": [
        {
          "output_type": "stream",
          "name": "stdout",
          "text": [
            "<class 'pandas.core.frame.DataFrame'>\n",
            "RangeIndex: 303 entries, 0 to 302\n",
            "Data columns (total 14 columns):\n",
            " #   Column    Non-Null Count  Dtype  \n",
            "---  ------    --------------  -----  \n",
            " 0   age       303 non-null    float64\n",
            " 1   sex       303 non-null    object \n",
            " 2   cp        303 non-null    object \n",
            " 3   trestbps  303 non-null    float64\n",
            " 4   chol      303 non-null    float64\n",
            " 5   fbs       303 non-null    object \n",
            " 6   restecg   303 non-null    object \n",
            " 7   thalach   303 non-null    float64\n",
            " 8   exang     303 non-null    object \n",
            " 9   oldpeak   303 non-null    float64\n",
            " 10  slope     303 non-null    object \n",
            " 11  ca        303 non-null    object \n",
            " 12  thal      303 non-null    object \n",
            " 13  target    303 non-null    object \n",
            "dtypes: float64(5), object(9)\n",
            "memory usage: 172.9 KB\n"
          ]
        }
      ],
      "source": [
        "df.info(memory_usage='deep')"
      ]
    },
    {
      "cell_type": "code",
      "execution_count": 264,
      "metadata": {
        "id": "v6Ha9mgQZtZB"
      },
      "outputs": [],
      "source": [
        "df['ca'].replace(to_replace = '?', value = 4, inplace=True)\n",
        "df['ca'] = pd.to_numeric(df['ca'])\n",
        "df_copy = df.copy()\n",
        "df['target'].replace(['S[0-9]', 'H'], [1,0], regex=True, inplace=True)"
      ]
    },
    {
      "cell_type": "code",
      "execution_count": 265,
      "metadata": {
        "colab": {
          "base_uri": "https://localhost:8080/"
        },
        "id": "nRofl7HNaWQ8",
        "outputId": "ef62ce84-01c0-4ba5-8b92-3168cc6632d5"
      },
      "outputs": [
        {
          "output_type": "stream",
          "name": "stdout",
          "text": [
            "Dataset shape before dropping duplicates: (303, 14)\n",
            "Dataset shape after dropping duplicates: (302, 14)\n"
          ]
        }
      ],
      "source": [
        "print(f\"Dataset shape before dropping duplicates: {df.shape}\")\n",
        "df = df.drop_duplicates()\n",
        "df_copy = df_copy.drop_duplicates()\n",
        "print(f\"Dataset shape after dropping duplicates: {df.shape}\")"
      ]
    },
    {
      "cell_type": "markdown",
      "metadata": {
        "id": "kYVc2_V3Es4g"
      },
      "source": [
        "*No **null** values in the data.*"
      ]
    },
    {
      "cell_type": "code",
      "execution_count": 266,
      "metadata": {
        "colab": {
          "base_uri": "https://localhost:8080/"
        },
        "id": "Rlg4RXiTEo39",
        "outputId": "fde18c37-58fe-472c-f274-87196e7f0fc0"
      },
      "outputs": [
        {
          "output_type": "execute_result",
          "data": {
            "text/plain": [
              "0"
            ]
          },
          "metadata": {},
          "execution_count": 266
        }
      ],
      "source": [
        "df.isna().sum().sum()"
      ]
    },
    {
      "cell_type": "markdown",
      "metadata": {
        "id": "577EaEEJatAq"
      },
      "source": [
        "## **Categorical Variables**"
      ]
    },
    {
      "cell_type": "markdown",
      "metadata": {
        "id": "Q55XXo6SbCun"
      },
      "source": [
        "### *Target*\n",
        "\n"
      ]
    },
    {
      "cell_type": "code",
      "execution_count": 220,
      "metadata": {
        "colab": {
          "base_uri": "https://localhost:8080/",
          "height": 0
        },
        "id": "vzi2PU-dam0Y",
        "outputId": "ff0f5fe0-f578-4b94-ac8b-d2ddbf8996eb"
      },
      "outputs": [
        {
          "output_type": "display_data",
          "data": {
            "text/plain": [
              "<Figure size 432x288 with 1 Axes>"
            ],
            "image/png": "[encoded data removed]"
          },
          "metadata": {}
        }
      ],
      "source": [
        "sns.countplot(data = df, x='target');\n",
        "plt.xticks(rotation=0, weight='bold');"
      ]
    },
    {
      "cell_type": "markdown",
      "metadata": {
        "id": "xDOVwbtTcehy"
      },
      "source": [
        "### *Sex*"
      ]
    },
    {
      "cell_type": "code",
      "execution_count": 221,
      "metadata": {
        "colab": {
          "base_uri": "https://localhost:8080/",
          "height": 0
        },
        "id": "Yc4zgfsJbRT2",
        "outputId": "e8a66731-327f-4780-c90b-9779e90a3ff0"
      },
      "outputs": [
        {
          "output_type": "display_data",
          "data": {
            "text/plain": [
              "<Figure size 720x576 with 1 Axes>"
            ],
            "image/png": "[encoded data removed]"
          },
          "metadata": {}
        }
      ],
      "source": [
        "pd.crosstab(index=df.sex, columns=df.target).plot(kind='bar',figsize=(10,8))\n",
        "plt.xticks(rotation=0)\n",
        "# plt.xlabel('False: [fbs<120]  True:[fbs > 120]', weight='bold')\n",
        "plt.legend(['Not Diseased', 'Diseased']);"
      ]
    },
    {
      "cell_type": "markdown",
      "metadata": {
        "id": "opbxIbLbcrbE"
      },
      "source": [
        "### *FBS*"
      ]
    },
    {
      "cell_type": "code",
      "execution_count": 222,
      "metadata": {
        "colab": {
          "base_uri": "https://localhost:8080/",
          "height": 0
        },
        "id": "pyaFpAq5clOA",
        "outputId": "d8ed884a-e6d3-4b93-da62-feebed6a14a5"
      },
      "outputs": [
        {
          "output_type": "display_data",
          "data": {
            "text/plain": [
              "<Figure size 720x576 with 1 Axes>"
            ],
            "image/png": "[encoded data removed]"
          },
          "metadata": {}
        }
      ],
      "source": [
        "pd.crosstab(index=df.fbs, columns=df.target).plot(kind='bar',figsize=(10,8))\n",
        "plt.xticks(rotation=0)\n",
        "plt.xlabel('False: [fbs<120]  True:[fbs > 120]', weight='bold')\n",
        "plt.legend(['Not Diseased', 'Diseased']);"
      ]
    },
    {
      "cell_type": "markdown",
      "metadata": {
        "id": "JC1FHSqkdliQ"
      },
      "source": [
        "### *Exang*"
      ]
    },
    {
      "cell_type": "code",
      "execution_count": 223,
      "metadata": {
        "colab": {
          "base_uri": "https://localhost:8080/",
          "height": 0
        },
        "id": "vQa2TfM8dBr1",
        "outputId": "97e4f1e5-cf8f-438d-99aa-8184fdaee139"
      },
      "outputs": [
        {
          "output_type": "display_data",
          "data": {
            "text/plain": [
              "<Figure size 720x576 with 1 Axes>"
            ],
            "image/png": "[encoded data removed]"
          },
          "metadata": {}
        }
      ],
      "source": [
        "pd.crosstab(index=df.exang, columns = df.target).plot(kind='bar',figsize=(10,8))\n",
        "plt.xticks(rotation=0,weight='bold')\n",
        "plt.legend(['Not Diseased', 'Diseased']);\n",
        "plt.ylabel('Count');"
      ]
    },
    {
      "cell_type": "markdown",
      "metadata": {
        "id": "mrfS58umnpio"
      },
      "source": [
        "### *Chest pain type*"
      ]
    },
    {
      "cell_type": "code",
      "execution_count": 224,
      "metadata": {
        "colab": {
          "base_uri": "https://localhost:8080/",
          "height": 0
        },
        "id": "nj3ARKDKhKsD",
        "outputId": "9b98db4a-4ead-4355-c464-d38097472039"
      },
      "outputs": [
        {
          "output_type": "display_data",
          "data": {
            "text/plain": [
              "<Figure size 720x576 with 1 Axes>"
            ],
            "image/png": "[encoded data removed]"
          },
          "metadata": {}
        }
      ],
      "source": [
        "pd.crosstab(index=df.cp, columns= df.target).plot(kind='bar',figsize=(10,8))\n",
        "plt.xticks(rotation=0)\n",
        "plt.legend(['Not Diseased', 'Diseased']);\n",
        "plt.ylabel('Count');"
      ]
    },
    {
      "cell_type": "markdown",
      "metadata": {
        "id": "wZ4cWyu6oRyA"
      },
      "source": [
        "### Number of vessels colored by fluroscopy (ca)"
      ]
    },
    {
      "cell_type": "code",
      "execution_count": 225,
      "metadata": {
        "colab": {
          "base_uri": "https://localhost:8080/",
          "height": 0
        },
        "id": "cT62Vesgntm9",
        "outputId": "97a6317b-78cf-415d-e58c-b1e49b412f53"
      },
      "outputs": [
        {
          "output_type": "display_data",
          "data": {
            "text/plain": [
              "<Figure size 720x576 with 1 Axes>"
            ],
            "image/png": "[encoded data removed]"
          },
          "metadata": {}
        }
      ],
      "source": [
        "pd.crosstab(index=df.ca, columns= df.target).plot(kind='bar',figsize=(10,8))\n",
        "plt.xticks(rotation=0)\n",
        "plt.legend(['Not Diseased', 'Diseased']);\n",
        "plt.ylabel('Count');"
      ]
    },
    {
      "cell_type": "markdown",
      "metadata": {
        "id": "RRJaFiWGoXli"
      },
      "source": [
        "### Slope of the Peak exercise ST segment (slope)"
      ]
    },
    {
      "cell_type": "code",
      "execution_count": 226,
      "metadata": {
        "colab": {
          "base_uri": "https://localhost:8080/",
          "height": 0
        },
        "id": "_nTx9BCDoWmq",
        "outputId": "80d632bc-8fec-4161-f7fd-763605759af5"
      },
      "outputs": [
        {
          "output_type": "display_data",
          "data": {
            "text/plain": [
              "<Figure size 720x576 with 1 Axes>"
            ],
            "image/png": "[encoded data removed]"
          },
          "metadata": {}
        }
      ],
      "source": [
        "pd.crosstab(index=df.slope, columns= df.target).plot(kind='bar',figsize=(10,8))\n",
        "plt.xticks(rotation=0)\n",
        "plt.legend(['Not Diseased', 'Diseased']);\n",
        "plt.ylabel('Count');"
      ]
    },
    {
      "cell_type": "markdown",
      "metadata": {
        "id": "KEHmW6a3oglh"
      },
      "source": [
        "### *Resting ECG*"
      ]
    },
    {
      "cell_type": "code",
      "execution_count": 227,
      "metadata": {
        "colab": {
          "base_uri": "https://localhost:8080/",
          "height": 0
        },
        "id": "SyFOmcZWodQ3",
        "outputId": "997de566-f4bd-4d2f-a91b-06edab73f552"
      },
      "outputs": [
        {
          "output_type": "display_data",
          "data": {
            "text/plain": [
              "<Figure size 720x576 with 1 Axes>"
            ],
            "image/png": "[encoded data removed]"
          },
          "metadata": {}
        }
      ],
      "source": [
        "pd.crosstab(index=df.restecg, columns= df.target).plot(kind='bar',figsize=(10,8))\n",
        "plt.xticks(rotation=0)\n",
        "plt.legend(['Not Diseased', 'Diseased']);\n",
        "plt.ylabel('Count');"
      ]
    },
    {
      "cell_type": "markdown",
      "metadata": {
        "id": "YCMxNwwZo1fZ"
      },
      "source": [
        "### *Thal*"
      ]
    },
    {
      "cell_type": "code",
      "execution_count": 228,
      "metadata": {
        "colab": {
          "base_uri": "https://localhost:8080/",
          "height": 0
        },
        "id": "WN1o1PXHoz9J",
        "outputId": "3e000769-7333-4a4e-9855-0ea67f553c5c"
      },
      "outputs": [
        {
          "output_type": "display_data",
          "data": {
            "text/plain": [
              "<Figure size 720x576 with 1 Axes>"
            ],
            "image/png": "[encoded data removed]"
          },
          "metadata": {}
        }
      ],
      "source": [
        "pd.crosstab(index=df.thal, columns= df.target).plot(kind='bar',figsize=(10,8))\n",
        "plt.xticks(rotation=0)\n",
        "plt.ylabel('Count');"
      ]
    },
    {
      "cell_type": "markdown",
      "metadata": {
        "id": "2Iwu1HORpb34"
      },
      "source": [
        "### **Observations**\n",
        "\n",
        "1.   Men are at greater risk of heart disease than pre-menopausal women. Once past menopause, it has been argued that a woman’s risk is similar to a man’s although more recent data from the WHO and UN disputes this. If a female has diabetes, she is more likely to develop heart disease than a male with diabetes.\n",
        "\n",
        "2.   Suprisingly, individuals with fbs less than 120 are more likely to be diseased than the people with higher levels of blood sugar level. This wasn't the expected outcome, as higher blood sugar levels usually corresponds to higher blood pressure, which in-turn increases the risk of contracting a heart disease.\n",
        "\n",
        "3. The pain or discomfort associated with angina usually feels tight, gripping or squeezing, and can vary from mild to severe. Angina is usually felt in the center of your chest but may spread to either or both of your shoulders, or your back, neck, jaw or arm. It can be seen from the bar chart,that the chances of people being diseased when the chest pain is caused due to exercise is very similiar to the opposite scenario.\n",
        "\n",
        "4. Most of the heart disease patients are found to have asymptomatic chest pain. These group of people might show atypical symptoms like indigestion, flu or a strained chest muscle. A asymptomatic attack, like any heart attack, involves, blockage of blood flow to your heart and possible damage to the heart muscle.\n",
        "\n",
        "6. The more the number of major vessels, the lesser are the chances of getting a heart disease. The same can be observed, from the bar chart of **ca** column, where the number of vessels coloured by fluroscopy is inversely proportional to the number of positive cases.\n",
        "\n",
        "7.  In general, the occurrence of horizontal or down-sloping ST-segment depression at a lower workload (calculated in METs) or heart rate indicates a worse prognosis and higher likelihood of multi-vessel disease. Patients gaving ST-segment elevation > 1 mm are frequently referred urgently for coronary angiography.\n",
        "\n",
        "6.  For people at low risk of cardiovascular disease, the USPSTF concludes with moderate certainty that the potential harms of screening with resting or exercise ECG equal or exceed the potential benefits. For people at intermediate to high risk, current evidence is insufficient to assess the balance of benefits and harms of screening.\n"
      ]
    },
    {
      "cell_type": "markdown",
      "metadata": {
        "id": "Bhnuv-qltLxy"
      },
      "source": [
        "## **Continuous Variables**"
      ]
    },
    {
      "cell_type": "markdown",
      "metadata": {
        "id": "HXskZlmptiwg"
      },
      "source": [
        "### *Univariate Analysis*"
      ]
    },
    {
      "cell_type": "code",
      "execution_count": 229,
      "metadata": {
        "colab": {
          "base_uri": "https://localhost:8080/"
        },
        "id": "kPEMjChOtxi3",
        "outputId": "8bbf5791-e0de-4f68-a902-d768c4554d48"
      },
      "outputs": [
        {
          "output_type": "stream",
          "name": "stdout",
          "text": [
            "age skew: -0.20374327959596902\n",
            "trestbps skew: 0.7165414326647316\n",
            "chol skew: 1.147332413980798\n",
            "thalach skew: -0.5326712468229612\n",
            "oldpeak skew: 1.2661727209102194\n"
          ]
        }
      ],
      "source": [
        "cont_cols = ['age','trestbps','chol','thalach','oldpeak']\n",
        "for col in cont_cols:\n",
        "  print(f\"{col} skew: {df[col].skew()}\")"
      ]
    },
    {
      "cell_type": "code",
      "execution_count": 230,
      "metadata": {
        "colab": {
          "base_uri": "https://localhost:8080/",
          "height": 0
        },
        "id": "DRGLsI8do76t",
        "outputId": "561cfd4f-c130-46f1-d42e-9818648b8422"
      },
      "outputs": [
        {
          "output_type": "display_data",
          "data": {
            "text/plain": [
              "<Figure size 2160x432 with 5 Axes>"
            ],
            "image/png": "[encoded data removed]"
          },
          "metadata": {}
        }
      ],
      "source": [
        "color = ['r','g','b','yellow','orange']\n",
        "f, ax = plt.subplots(1,5, figsize=(30,6))\n",
        "\n",
        "for i,ax in enumerate(ax):\n",
        "  x = pd.Series(df[cont_cols[i]], name=cont_cols[i])\n",
        "  g = sns.kdeplot(x, shade=True, color=color[i],ax=ax)\n"
      ]
    },
    {
      "cell_type": "code",
      "execution_count": 231,
      "metadata": {
        "colab": {
          "base_uri": "https://localhost:8080/",
          "height": 0
        },
        "id": "TgJpAOCdtuIz",
        "outputId": "96199c8f-2d04-4551-918b-4991f4e7685e"
      },
      "outputs": [
        {
          "output_type": "display_data",
          "data": {
            "text/plain": [
              "<Figure size 2160x432 with 5 Axes>"
            ],
            "image/png": "[encoded data removed]"
          },
          "metadata": {}
        }
      ],
      "source": [
        "f, ax = plt.subplots(1,5, figsize=(30,6))\n",
        "for i,ax in enumerate(ax):\n",
        "  sns.boxplot(x = cont_cols[i],data = df, ax=ax, color = color[i]);\n"
      ]
    },
    {
      "cell_type": "markdown",
      "metadata": {
        "id": "HVke-vePuP4W"
      },
      "source": [
        "#### **Observations**\n",
        "\n",
        "\n",
        "\n",
        "1.   Trestbps, chol and oldpeak are right skewed.\n",
        "\n",
        "2.   Thalach is left skewed.\n",
        "\n",
        "3. Trestbps, chol and oldpeak features have outliers on the right hand side.\n",
        "\n",
        "4. Thalach has outliers on the left hand side\n"
      ]
    },
    {
      "cell_type": "markdown",
      "metadata": {
        "id": "AhlNtbdwvAS4"
      },
      "source": [
        "### *Bivariate Analysis*"
      ]
    },
    {
      "cell_type": "code",
      "execution_count": 232,
      "metadata": {
        "colab": {
          "base_uri": "https://localhost:8080/",
          "height": 0
        },
        "id": "0oJYqyx7uEo2",
        "outputId": "ed9dd31e-5c72-413d-c713-5488e85909e4"
      },
      "outputs": [
        {
          "output_type": "display_data",
          "data": {
            "text/plain": [
              "<Figure size 2160x432 with 5 Axes>"
            ],
            "image/png": "[encoded data removed]"
          },
          "metadata": {}
        }
      ],
      "source": [
        "f, ax = plt.subplots(1,5,figsize=(30, 6));\n",
        "sns.boxplot(x=\"target\", y=\"age\", data=df,ax=ax[0]);\n",
        "sns.boxplot(x=\"target\", y=\"trestbps\", data=df,ax = ax[1]);\n",
        "sns.boxplot(x=\"target\", y=\"chol\", data=df,ax = ax[2]);\n",
        "sns.boxplot(x=\"target\", y=\"thalach\", data=df,ax = ax[3]);\n",
        "sns.boxplot(x=\"target\", y=\"oldpeak\", data=df,ax = ax[4]);\n"
      ]
    },
    {
      "cell_type": "markdown",
      "metadata": {
        "id": "UDjmYTQix1ho"
      },
      "source": [
        "#### **Observations**\n",
        "\n",
        "\n",
        "\n",
        "1.   Age is one of the most important risk factor in developing cardiovascular or heart diseases, with approximately a tripling of risk with each decade of life. Coronary fatty streaks can begin to form in adolescence. It is estimated that 82 percent of people who die of coronary heart disease are 65 and older. Simultaneously, the risk of stroke doubles every decade after age 55.\n",
        "\n",
        "2.   Over time, high blood pressure can damage arteries that feed your heart. High blood pressure that occurs with other conditions, such as obesity, high cholesterol or diabetes, increases your risk even more.\n",
        "\n",
        "3. A high level of low-density lipoprotein (LDL) cholesterol (the “bad” cholesterol) is most likely to narrow arteries. A high level of triglycerides, a type of blood fat related to your diet, also ups your risk of a heart attack. However, a high level of high-density lipoprotein (HDL) cholesterol (the “good” cholesterol) lowers your risk of a heart attack.\n",
        "\n",
        "4. Oldpeak is greater in diseased patients as compared to the non-diseased patients\n",
        "\n"
      ]
    },
    {
      "cell_type": "markdown",
      "metadata": {
        "id": "snBbKGx4yuzc"
      },
      "source": [
        "### *Multivariate Analysis*"
      ]
    },
    {
      "cell_type": "markdown",
      "metadata": {
        "id": "FqBKeHm_zAwN"
      },
      "source": [
        "\n",
        "\n",
        "1.   Since, the target feature represents the presence or absence of a heart diesease, let's find the correlation of the features w.r.t. to the target.\n",
        "2.   In order to do so, we need to label encode our categorical features\n",
        "\n"
      ]
    },
    {
      "cell_type": "code",
      "execution_count": 233,
      "metadata": {
        "id": "I-k3oiLKy6iF"
      },
      "outputs": [],
      "source": [
        "df = df_copy\n",
        "df['sex'].replace(to_replace=['male','fem'], value = [1,0],inplace=True)\n",
        "df['cp'].replace(to_replace = ['asympt','abnang','notang','angina'], value = [0,1,2,3], inplace=True)\n",
        "df['fbs'].replace(to_replace = ['true','fal'], value = [1,0],inplace=True)\n",
        "df['restecg'].replace(to_replace = ['hyp', 'norm','abn'], value = [0,1,2], inplace=True)\n",
        "df['exang'].replace(to_replace = ['fal','true'], value = [0,1], inplace=True)\n",
        "df['slope'].replace(to_replace = ['down','flat','up'], value = [0,1,2], inplace=True)\n",
        "df['thal'].replace(to_replace = ['?','fix','norm','rev'], value = [0,1,2,3], inplace=True)\n",
        "df['target'].replace(to_replace = ['H','S1','S2','S3','S4'],value = [0,1,2,3,4], inplace=True)"
      ]
    },
    {
      "cell_type": "code",
      "execution_count": 234,
      "metadata": {
        "colab": {
          "base_uri": "https://localhost:8080/"
        },
        "id": "pWZNBHjWz5JS",
        "outputId": "3ab2c273-2043-4e10-a47e-1cc609031037"
      },
      "outputs": [
        {
          "output_type": "execute_result",
          "data": {
            "text/plain": [
              "age         0.222890\n",
              "sex         0.225511\n",
              "cp         -0.417746\n",
              "trestbps    0.158089\n",
              "chol        0.070868\n",
              "fbs         0.059274\n",
              "restecg    -0.133425\n",
              "thalach    -0.415298\n",
              "exang       0.397496\n",
              "oldpeak     0.504919\n",
              "slope      -0.378722\n",
              "ca          0.454953\n",
              "thal        0.330199\n",
              "target      1.000000\n",
              "Name: target, dtype: float64"
            ]
          },
          "metadata": {},
          "execution_count": 234
        }
      ],
      "source": [
        "df.corr()['target']"
      ]
    },
    {
      "cell_type": "code",
      "execution_count": 235,
      "metadata": {
        "colab": {
          "base_uri": "https://localhost:8080/",
          "height": 0
        },
        "id": "3W06AIiSz7Ir",
        "outputId": "4b62830e-eb2d-4520-a27a-620775131797"
      },
      "outputs": [
        {
          "output_type": "display_data",
          "data": {
            "text/plain": [
              "<Figure size 1080x432 with 1 Axes>"
            ],
            "image/png": "[encoded data removed]"
          },
          "metadata": {}
        }
      ],
      "source": [
        "df.corr()['target'][:-1].sort_values(ascending=False).plot(kind='barh', figsize = (15,6))\n",
        "plt.yticks(rotation=45, weight='bold');\n",
        "plt.title('Correlation of features w.r.t to the target variable');"
      ]
    },
    {
      "cell_type": "markdown",
      "metadata": {
        "id": "c3PIlXoN0Gyj"
      },
      "source": [
        "*Correlation between features*"
      ]
    },
    {
      "cell_type": "code",
      "execution_count": 236,
      "metadata": {
        "colab": {
          "base_uri": "https://localhost:8080/",
          "height": 0
        },
        "id": "FSq9VkT8z8qM",
        "outputId": "ed5e5ae6-4bd3-4413-fb63-832cdea0fb8f"
      },
      "outputs": [
        {
          "output_type": "display_data",
          "data": {
            "text/plain": [
              "<Figure size 1296x864 with 2 Axes>"
            ],
            "image/png": "[encoded data removed]"
          },
          "metadata": {}
        }
      ],
      "source": [
        "fig = plt.figure(figsize = (18,12))\n",
        "ax = sns.heatmap(df.corr(), annot=True,cmap='hsv');"
      ]
    },
    {
      "cell_type": "markdown",
      "metadata": {
        "id": "cY8nQG2y0Su-"
      },
      "source": [
        "#### **Observations**\n",
        "\n",
        "1.   None of the features have a strong positive or negative correlation with the target variable.\n",
        "\n",
        "2.   Fasting blood sugar seems to be uncorrleated with the patient being diseased, which is a bit suprising.\n",
        "\n",
        "3.   Exang and oldpeak are slighlty negatively correlated with the target variable.\n",
        "\n",
        "4.   Thalch and cp are slightly positively correlated with the target variabe.\n",
        "\n",
        "5. None of the features are higly correlated, and hence no such features need to be dropped to avoid multi-collinearity.\n",
        "\n"
      ]
    },
    {
      "cell_type": "markdown",
      "metadata": {
        "id": "xAjM0kTj1VPY"
      },
      "source": [
        "# **Outlier-Detection**"
      ]
    },
    {
      "cell_type": "markdown",
      "metadata": {
        "id": "TM2Fjry71Zvh"
      },
      "source": [
        "***Since, we don't have a lot of data for training and testing our data, let's use the Inter-Quartile Range (IQR) for the detection of outlier***\n",
        "\n",
        "**Standard Deviation:**\n",
        "![](https://qph.fs.quoracdn.net/main-qimg-a86744ea6f27735b381e097bed60e048.webp)  \n",
        "\n",
        "**Interquartile Range:**\n",
        "![](http://www.statisticshowto.com/wp-content/uploads/2012/03/iqr.jpg)"
      ]
    },
    {
      "cell_type": "markdown",
      "metadata": {
        "id": "e06xyTMp2bSP"
      },
      "source": [
        "* Consider any feature from the dataset. Below, is the distribution of the **chol** feature prior to removal of it's outliers.\n",
        "\n",
        "* The area shaded in red, represents the outliers."
      ]
    },
    {
      "cell_type": "code",
      "execution_count": 237,
      "metadata": {
        "colab": {
          "base_uri": "https://localhost:8080/",
          "height": 0
        },
        "id": "4FuPG29R0OE4",
        "outputId": "22ddfcdc-cccc-4739-d82c-6ef969238ceb"
      },
      "outputs": [
        {
          "output_type": "display_data",
          "data": {
            "text/plain": [
              "<Figure size 720x432 with 1 Axes>"
            ],
            "image/png": "[encoded data removed]"
          },
          "metadata": {}
        }
      ],
      "source": [
        "q25, q75 = np.quantile(df['chol'], 0.25), np.quantile(df['chol'], 0.75)\n",
        "iqr = q75 - q25\n",
        "cut_off = iqr * 1.5\n",
        "lower, upper = q25 - cut_off, q75 + cut_off\n",
        "plt.figure(figsize = (10,6));\n",
        "sns.histplot(df.chol);\n",
        "plt.axvspan(xmin = lower,xmax= df.chol.min(),alpha=0.2, color='red');\n",
        "plt.axvspan(xmin = upper,xmax= df.chol.max(),alpha=0.2, color='red');"
      ]
    },
    {
      "cell_type": "markdown",
      "metadata": {
        "id": "qsg-C_lj3HAo"
      },
      "source": [
        "*Removing the outliers*"
      ]
    },
    {
      "cell_type": "code",
      "execution_count": 238,
      "metadata": {
        "colab": {
          "base_uri": "https://localhost:8080/",
          "height": 0
        },
        "id": "uWG_Bsla25ZF",
        "outputId": "da87a339-45a9-4a91-8dbf-06ab2ba479a7"
      },
      "outputs": [
        {
          "output_type": "stream",
          "name": "stdout",
          "text": [
            "Total number of outlier in age are 0\n",
            "---------------------------------------\n",
            "Total number of outlier in trestbps are 9\n",
            "---------------------------------------\n",
            "Total number of outlier in chol are 5\n",
            "---------------------------------------\n",
            "Total number of outlier in thalach are 1\n",
            "---------------------------------------\n",
            "Total number of outlier in oldpeak are 4\n",
            "---------------------------------------\n"
          ]
        },
        {
          "output_type": "display_data",
          "data": {
            "text/plain": [
              "<Figure size 720x432 with 1 Axes>"
            ],
            "image/png": "[encoded data removed]"
          },
          "metadata": {}
        }
      ],
      "source": [
        "def out_iqr(df , column):\n",
        "    \n",
        "    q25, q75 = np.quantile(df[column], 0.25), np.quantile(df[column], 0.75)\n",
        "    iqr = q75 - q25\n",
        "    cut_off = iqr * 1.5\n",
        "    lower, upper = q25 - cut_off, q75 + cut_off\n",
        "    df1 = df[df[column] > upper]\n",
        "    df2 = df[df[column] < lower]\n",
        "    print(f\"Total number of outlier in {column} are {df1.shape[0]+ df2.shape[0]}\")\n",
        "    print(\"---------------------------------------\")\n",
        "    index = df[(df[column] > upper)|(df[column] < lower)].index\n",
        "    df.drop(index, inplace=True)\n",
        "\n",
        "for col in cont_cols:\n",
        "  out_iqr(df,col)\n",
        "\n",
        "plt.figure(figsize = (10,6));\n",
        "sns.histplot(df.chol);\n",
        "plt.axvspan(xmin = lower,xmax= df.chol.min(),alpha=0.2, color='red');\n",
        "plt.axvspan(xmin = upper,xmax= df.chol.max(),alpha=0.2, color='red');"
      ]
    },
    {
      "cell_type": "markdown",
      "metadata": {
        "id": "c3bCPXVB3eiN"
      },
      "source": [
        "# **Feature-Engineering**"
      ]
    },
    {
      "cell_type": "markdown",
      "metadata": {
        "id": "BSrd7y4Z3y9_"
      },
      "source": [
        "Current dataset"
      ]
    },
    {
      "cell_type": "code",
      "execution_count": 239,
      "metadata": {
        "colab": {
          "base_uri": "https://localhost:8080/",
          "height": 0
        },
        "id": "cm7tSw3L3U3P",
        "outputId": "c8b25c1c-d8ae-44be-90db-72b2663156a6"
      },
      "outputs": [
        {
          "output_type": "stream",
          "name": "stdout",
          "text": [
            "Number of features: (283, 14)\n"
          ]
        },
        {
          "output_type": "execute_result",
          "data": {
            "text/plain": [
              "    age  sex  cp  trestbps   chol  fbs  restecg  thalach  exang  oldpeak  \\\n",
              "0  63.0    1   3     145.0  233.0    1        0    150.0      0      2.3   \n",
              "1  67.0    1   0     160.0  286.0    0        0    108.0      1      1.5   \n",
              "2  67.0    1   0     120.0  229.0    0        0    129.0      1      2.6   \n",
              "3  37.0    1   2     130.0  250.0    0        1    187.0      0      3.5   \n",
              "4  41.0    0   1     130.0  204.0    0        0    172.0      0      1.4   \n",
              "\n",
              "   slope   ca  thal  target  \n",
              "0      0  0.0     1       0  \n",
              "1      1  3.0     2       2  \n",
              "2      1  2.0     3       1  \n",
              "3      0  0.0     2       0  \n",
              "4      2  0.0     2       0  "
            ],
            "text/html": [
              "\n",
              "  <div id=\"df-eb657c4c-b991-4c0c-8413-b9074abdd9e8\">\n",
              "    <div class=\"colab-df-container\">\n",
              "      <div>\n",
              "<style scoped>\n",
              "    .dataframe tbody tr th:only-of-type {\n",
              "        vertical-align: middle;\n",
              "    }\n",
              "\n",
              "    .dataframe tbody tr th {\n",
              "        vertical-align: top;\n",
              "    }\n",
              "\n",
              "    .dataframe thead th {\n",
              "        text-align: right;\n",
              "    }\n",
              "</style>\n",
              "<table border=\"1\" class=\"dataframe\">\n",
              "  <thead>\n",
              "    <tr style=\"text-align: right;\">\n",
              "      <th></th>\n",
              "      <th>age</th>\n",
              "      <th>sex</th>\n",
              "      <th>cp</th>\n",
              "      <th>trestbps</th>\n",
              "      <th>chol</th>\n",
              "      <th>fbs</th>\n",
              "      <th>restecg</th>\n",
              "      <th>thalach</th>\n",
              "      <th>exang</th>\n",
              "      <th>oldpeak</th>\n",
              "      <th>slope</th>\n",
              "      <th>ca</th>\n",
              "      <th>thal</th>\n",
              "      <th>target</th>\n",
              "    </tr>\n",
              "  </thead>\n",
              "  <tbody>\n",
              "    <tr>\n",
              "      <th>0</th>\n",
              "      <td>63.0</td>\n",
              "      <td>1</td>\n",
              "      <td>3</td>\n",
              "      <td>145.0</td>\n",
              "      <td>233.0</td>\n",
              "      <td>1</td>\n",
              "      <td>0</td>\n",
              "      <td>150.0</td>\n",
              "      <td>0</td>\n",
              "      <td>2.3</td>\n",
              "      <td>0</td>\n",
              "      <td>0.0</td>\n",
              "      <td>1</td>\n",
              "      <td>0</td>\n",
              "    </tr>\n",
              "    <tr>\n",
              "      <th>1</th>\n",
              "      <td>67.0</td>\n",
              "      <td>1</td>\n",
              "      <td>0</td>\n",
              "      <td>160.0</td>\n",
              "      <td>286.0</td>\n",
              "      <td>0</td>\n",
              "      <td>0</td>\n",
              "      <td>108.0</td>\n",
              "      <td>1</td>\n",
              "      <td>1.5</td>\n",
              "      <td>1</td>\n",
              "      <td>3.0</td>\n",
              "      <td>2</td>\n",
              "      <td>2</td>\n",
              "    </tr>\n",
              "    <tr>\n",
              "      <th>2</th>\n",
              "      <td>67.0</td>\n",
              "      <td>1</td>\n",
              "      <td>0</td>\n",
              "      <td>120.0</td>\n",
              "      <td>229.0</td>\n",
              "      <td>0</td>\n",
              "      <td>0</td>\n",
              "      <td>129.0</td>\n",
              "      <td>1</td>\n",
              "      <td>2.6</td>\n",
              "      <td>1</td>\n",
              "      <td>2.0</td>\n",
              "      <td>3</td>\n",
              "      <td>1</td>\n",
              "    </tr>\n",
              "    <tr>\n",
              "      <th>3</th>\n",
              "      <td>37.0</td>\n",
              "      <td>1</td>\n",
              "      <td>2</td>\n",
              "      <td>130.0</td>\n",
              "      <td>250.0</td>\n",
              "      <td>0</td>\n",
              "      <td>1</td>\n",
              "      <td>187.0</td>\n",
              "      <td>0</td>\n",
              "      <td>3.5</td>\n",
              "      <td>0</td>\n",
              "      <td>0.0</td>\n",
              "      <td>2</td>\n",
              "      <td>0</td>\n",
              "    </tr>\n",
              "    <tr>\n",
              "      <th>4</th>\n",
              "      <td>41.0</td>\n",
              "      <td>0</td>\n",
              "      <td>1</td>\n",
              "      <td>130.0</td>\n",
              "      <td>204.0</td>\n",
              "      <td>0</td>\n",
              "      <td>0</td>\n",
              "      <td>172.0</td>\n",
              "      <td>0</td>\n",
              "      <td>1.4</td>\n",
              "      <td>2</td>\n",
              "      <td>0.0</td>\n",
              "      <td>2</td>\n",
              "      <td>0</td>\n",
              "    </tr>\n",
              "  </tbody>\n",
              "</table>\n",
              "</div>\n",
              "      <button class=\"colab-df-convert\" onclick=\"convertToInteractive('df-eb657c4c-b991-4c0c-8413-b9074abdd9e8')\"\n",
              "              title=\"Convert this dataframe to an interactive table.\"\n",
              "              style=\"display:none;\">\n",
              "        \n",
              "  <svg xmlns=\"http://www.w3.org/2000/svg\" height=\"24px\"viewBox=\"0 0 24 24\"\n",
              "       width=\"24px\">\n",
              "    <path d=\"M0 0h24v24H0V0z\" fill=\"none\"/>\n",
              "    <path d=\"M18.56 5.44l.94 2.06.94-2.06 2.06-.94-2.06-.94-.94-2.06-.94 2.06-2.06.94zm-11 1L8.5 8.5l.94-2.06 2.06-.94-2.06-.94L8.5 2.5l-.94 2.06-2.06.94zm10 10l.94 2.06.94-2.06 2.06-.94-2.06-.94-.94-2.06-.94 2.06-2.06.94z\"/><path d=\"M17.41 7.96l-1.37-1.37c-.4-.4-.92-.59-1.43-.59-.52 0-1.04.2-1.43.59L10.3 9.45l-7.72 7.72c-.78.78-.78 2.05 0 2.83L4 21.41c.39.39.9.59 1.41.59.51 0 1.02-.2 1.41-.59l7.78-7.78 2.81-2.81c.8-.78.8-2.07 0-2.86zM5.41 20L4 18.59l7.72-7.72 1.47 1.35L5.41 20z\"/>\n",
              "  </svg>\n",
              "      </button>\n",
              "      \n",
              "  <style>\n",
              "    .colab-df-container {\n",
              "      display:flex;\n",
              "      flex-wrap:wrap;\n",
              "      gap: 12px;\n",
              "    }\n",
              "\n",
              "    .colab-df-convert {\n",
              "      background-color: #E8F0FE;\n",
              "      border: none;\n",
              "      border-radius: 50%;\n",
              "      cursor: pointer;\n",
              "      display: none;\n",
              "      fill: #1967D2;\n",
              "      height: 32px;\n",
              "      padding: 0 0 0 0;\n",
              "      width: 32px;\n",
              "    }\n",
              "\n",
              "    .colab-df-convert:hover {\n",
              "      background-color: #E2EBFA;\n",
              "      box-shadow: 0px 1px 2px rgba(60, 64, 67, 0.3), 0px 1px 3px 1px rgba(60, 64, 67, 0.15);\n",
              "      fill: #174EA6;\n",
              "    }\n",
              "\n",
              "    [theme=dark] .colab-df-convert {\n",
              "      background-color: #3B4455;\n",
              "      fill: #D2E3FC;\n",
              "    }\n",
              "\n",
              "    [theme=dark] .colab-df-convert:hover {\n",
              "      background-color: #434B5C;\n",
              "      box-shadow: 0px 1px 3px 1px rgba(0, 0, 0, 0.15);\n",
              "      filter: drop-shadow(0px 1px 2px rgba(0, 0, 0, 0.3));\n",
              "      fill: #FFFFFF;\n",
              "    }\n",
              "  </style>\n",
              "\n",
              "      <script>\n",
              "        const buttonEl =\n",
              "          document.querySelector('#df-eb657c4c-b991-4c0c-8413-b9074abdd9e8 button.colab-df-convert');\n",
              "        buttonEl.style.display =\n",
              "          google.colab.kernel.accessAllowed ? 'block' : 'none';\n",
              "\n",
              "        async function convertToInteractive(key) {\n",
              "          const element = document.querySelector('#df-eb657c4c-b991-4c0c-8413-b9074abdd9e8');\n",
              "          const dataTable =\n",
              "            await google.colab.kernel.invokeFunction('convertToInteractive',\n",
              "                                                     [key], {});\n",
              "          if (!dataTable) return;\n",
              "\n",
              "          const docLinkHtml = 'Like what you see? Visit the ' +\n",
              "            '<a target=\"_blank\" href=https://colab.research.google.com/notebooks/data_table.ipynb>data table notebook</a>'\n",
              "            + ' to learn more about interactive tables.';\n",
              "          element.innerHTML = '';\n",
              "          dataTable['output_type'] = 'display_data';\n",
              "          await google.colab.output.renderOutput(dataTable, element);\n",
              "          const docLink = document.createElement('div');\n",
              "          docLink.innerHTML = docLinkHtml;\n",
              "          element.appendChild(docLink);\n",
              "        }\n",
              "      </script>\n",
              "    </div>\n",
              "  </div>\n",
              "  "
            ]
          },
          "metadata": {},
          "execution_count": 239
        }
      ],
      "source": [
        "print(f\"Number of features: {df.shape}\")\n",
        "df.head(5)"
      ]
    },
    {
      "cell_type": "markdown",
      "metadata": {
        "id": "0Ksww_LQ3-ga"
      },
      "source": [
        "***Generating new features from the existing ones***"
      ]
    },
    {
      "cell_type": "code",
      "execution_count": 240,
      "metadata": {
        "colab": {
          "base_uri": "https://localhost:8080/",
          "height": 0
        },
        "id": "XNLKtfiI39ib",
        "outputId": "7e302382-4850-466b-e6f7-13b8b4c43f46"
      },
      "outputs": [
        {
          "output_type": "stream",
          "name": "stdout",
          "text": [
            "Number of features: (283, 61)\n"
          ]
        },
        {
          "output_type": "execute_result",
          "data": {
            "text/plain": [
              "    age  sex  cp  trestbps   chol  fbs  restecg  thalach  exang  oldpeak  ...  \\\n",
              "0  63.0    1   3     145.0  233.0    1        0    150.0      0      2.3  ...   \n",
              "1  67.0    1   0     160.0  286.0    0        0    108.0      1      1.5  ...   \n",
              "2  67.0    1   0     120.0  229.0    0        0    129.0      1      2.6  ...   \n",
              "3  37.0    1   2     130.0  250.0    0        1    187.0      0      3.5  ...   \n",
              "4  41.0    0   1     130.0  204.0    0        0    172.0      0      1.4  ...   \n",
              "\n",
              "   exang_oldpeak2  exang_slope  exang_ca  thal_cp  thal_trestbps2  thal_chol2  \\\n",
              "0           0_5.0          0_0     0_0.0      1_3          1_14.0       1_5.0   \n",
              "1           1_3.0          1_1     1_3.0      2_0          2_16.0       2_7.0   \n",
              "2           1_6.0          1_1     1_2.0      3_0          3_12.0       3_5.0   \n",
              "3           0_8.0          0_0     0_0.0      2_2          2_13.0       2_6.0   \n",
              "4           0_3.0          0_2     0_0.0      2_1          2_13.0       2_5.0   \n",
              "\n",
              "   thal_thalach2  thal_oldpeak2  thal_slope thal_ca  \n",
              "0          1_3.0          1_5.0         1_0   1_0.0  \n",
              "1          2_2.0          2_3.0         2_1   2_3.0  \n",
              "2          3_3.0          3_6.0         3_1   3_2.0  \n",
              "3          2_4.0          2_8.0         2_0   2_0.0  \n",
              "4          2_4.0          2_3.0         2_2   2_0.0  \n",
              "\n",
              "[5 rows x 61 columns]"
            ],
            "text/html": [
              "\n",
              "  <div id=\"df-371d7252-9a05-422f-b29d-89d90c89eeba\">\n",
              "    <div class=\"colab-df-container\">\n",
              "      <div>\n",
              "<style scoped>\n",
              "    .dataframe tbody tr th:only-of-type {\n",
              "        vertical-align: middle;\n",
              "    }\n",
              "\n",
              "    .dataframe tbody tr th {\n",
              "        vertical-align: top;\n",
              "    }\n",
              "\n",
              "    .dataframe thead th {\n",
              "        text-align: right;\n",
              "    }\n",
              "</style>\n",
              "<table border=\"1\" class=\"dataframe\">\n",
              "  <thead>\n",
              "    <tr style=\"text-align: right;\">\n",
              "      <th></th>\n",
              "      <th>age</th>\n",
              "      <th>sex</th>\n",
              "      <th>cp</th>\n",
              "      <th>trestbps</th>\n",
              "      <th>chol</th>\n",
              "      <th>fbs</th>\n",
              "      <th>restecg</th>\n",
              "      <th>thalach</th>\n",
              "      <th>exang</th>\n",
              "      <th>oldpeak</th>\n",
              "      <th>...</th>\n",
              "      <th>exang_oldpeak2</th>\n",
              "      <th>exang_slope</th>\n",
              "      <th>exang_ca</th>\n",
              "      <th>thal_cp</th>\n",
              "      <th>thal_trestbps2</th>\n",
              "      <th>thal_chol2</th>\n",
              "      <th>thal_thalach2</th>\n",
              "      <th>thal_oldpeak2</th>\n",
              "      <th>thal_slope</th>\n",
              "      <th>thal_ca</th>\n",
              "    </tr>\n",
              "  </thead>\n",
              "  <tbody>\n",
              "    <tr>\n",
              "      <th>0</th>\n",
              "      <td>63.0</td>\n",
              "      <td>1</td>\n",
              "      <td>3</td>\n",
              "      <td>145.0</td>\n",
              "      <td>233.0</td>\n",
              "      <td>1</td>\n",
              "      <td>0</td>\n",
              "      <td>150.0</td>\n",
              "      <td>0</td>\n",
              "      <td>2.3</td>\n",
              "      <td>...</td>\n",
              "      <td>0_5.0</td>\n",
              "      <td>0_0</td>\n",
              "      <td>0_0.0</td>\n",
              "      <td>1_3</td>\n",
              "      <td>1_14.0</td>\n",
              "      <td>1_5.0</td>\n",
              "      <td>1_3.0</td>\n",
              "      <td>1_5.0</td>\n",
              "      <td>1_0</td>\n",
              "      <td>1_0.0</td>\n",
              "    </tr>\n",
              "    <tr>\n",
              "      <th>1</th>\n",
              "      <td>67.0</td>\n",
              "      <td>1</td>\n",
              "      <td>0</td>\n",
              "      <td>160.0</td>\n",
              "      <td>286.0</td>\n",
              "      <td>0</td>\n",
              "      <td>0</td>\n",
              "      <td>108.0</td>\n",
              "      <td>1</td>\n",
              "      <td>1.5</td>\n",
              "      <td>...</td>\n",
              "      <td>1_3.0</td>\n",
              "      <td>1_1</td>\n",
              "      <td>1_3.0</td>\n",
              "      <td>2_0</td>\n",
              "      <td>2_16.0</td>\n",
              "      <td>2_7.0</td>\n",
              "      <td>2_2.0</td>\n",
              "      <td>2_3.0</td>\n",
              "      <td>2_1</td>\n",
              "      <td>2_3.0</td>\n",
              "    </tr>\n",
              "    <tr>\n",
              "      <th>2</th>\n",
              "      <td>67.0</td>\n",
              "      <td>1</td>\n",
              "      <td>0</td>\n",
              "      <td>120.0</td>\n",
              "      <td>229.0</td>\n",
              "      <td>0</td>\n",
              "      <td>0</td>\n",
              "      <td>129.0</td>\n",
              "      <td>1</td>\n",
              "      <td>2.6</td>\n",
              "      <td>...</td>\n",
              "      <td>1_6.0</td>\n",
              "      <td>1_1</td>\n",
              "      <td>1_2.0</td>\n",
              "      <td>3_0</td>\n",
              "      <td>3_12.0</td>\n",
              "      <td>3_5.0</td>\n",
              "      <td>3_3.0</td>\n",
              "      <td>3_6.0</td>\n",
              "      <td>3_1</td>\n",
              "      <td>3_2.0</td>\n",
              "    </tr>\n",
              "    <tr>\n",
              "      <th>3</th>\n",
              "      <td>37.0</td>\n",
              "      <td>1</td>\n",
              "      <td>2</td>\n",
              "      <td>130.0</td>\n",
              "      <td>250.0</td>\n",
              "      <td>0</td>\n",
              "      <td>1</td>\n",
              "      <td>187.0</td>\n",
              "      <td>0</td>\n",
              "      <td>3.5</td>\n",
              "      <td>...</td>\n",
              "      <td>0_8.0</td>\n",
              "      <td>0_0</td>\n",
              "      <td>0_0.0</td>\n",
              "      <td>2_2</td>\n",
              "      <td>2_13.0</td>\n",
              "      <td>2_6.0</td>\n",
              "      <td>2_4.0</td>\n",
              "      <td>2_8.0</td>\n",
              "      <td>2_0</td>\n",
              "      <td>2_0.0</td>\n",
              "    </tr>\n",
              "    <tr>\n",
              "      <th>4</th>\n",
              "      <td>41.0</td>\n",
              "      <td>0</td>\n",
              "      <td>1</td>\n",
              "      <td>130.0</td>\n",
              "      <td>204.0</td>\n",
              "      <td>0</td>\n",
              "      <td>0</td>\n",
              "      <td>172.0</td>\n",
              "      <td>0</td>\n",
              "      <td>1.4</td>\n",
              "      <td>...</td>\n",
              "      <td>0_3.0</td>\n",
              "      <td>0_2</td>\n",
              "      <td>0_0.0</td>\n",
              "      <td>2_1</td>\n",
              "      <td>2_13.0</td>\n",
              "      <td>2_5.0</td>\n",
              "      <td>2_4.0</td>\n",
              "      <td>2_3.0</td>\n",
              "      <td>2_2</td>\n",
              "      <td>2_0.0</td>\n",
              "    </tr>\n",
              "  </tbody>\n",
              "</table>\n",
              "<p>5 rows × 61 columns</p>\n",
              "</div>\n",
              "      <button class=\"colab-df-convert\" onclick=\"convertToInteractive('df-371d7252-9a05-422f-b29d-89d90c89eeba')\"\n",
              "              title=\"Convert this dataframe to an interactive table.\"\n",
              "              style=\"display:none;\">\n",
              "        \n",
              "  <svg xmlns=\"http://www.w3.org/2000/svg\" height=\"24px\"viewBox=\"0 0 24 24\"\n",
              "       width=\"24px\">\n",
              "    <path d=\"M0 0h24v24H0V0z\" fill=\"none\"/>\n",
              "    <path d=\"M18.56 5.44l.94 2.06.94-2.06 2.06-.94-2.06-.94-.94-2.06-.94 2.06-2.06.94zm-11 1L8.5 8.5l.94-2.06 2.06-.94-2.06-.94L8.5 2.5l-.94 2.06-2.06.94zm10 10l.94 2.06.94-2.06 2.06-.94-2.06-.94-.94-2.06-.94 2.06-2.06.94z\"/><path d=\"M17.41 7.96l-1.37-1.37c-.4-.4-.92-.59-1.43-.59-.52 0-1.04.2-1.43.59L10.3 9.45l-7.72 7.72c-.78.78-.78 2.05 0 2.83L4 21.41c.39.39.9.59 1.41.59.51 0 1.02-.2 1.41-.59l7.78-7.78 2.81-2.81c.8-.78.8-2.07 0-2.86zM5.41 20L4 18.59l7.72-7.72 1.47 1.35L5.41 20z\"/>\n",
              "  </svg>\n",
              "      </button>\n",
              "      \n",
              "  <style>\n",
              "    .colab-df-container {\n",
              "      display:flex;\n",
              "      flex-wrap:wrap;\n",
              "      gap: 12px;\n",
              "    }\n",
              "\n",
              "    .colab-df-convert {\n",
              "      background-color: #E8F0FE;\n",
              "      border: none;\n",
              "      border-radius: 50%;\n",
              "      cursor: pointer;\n",
              "      display: none;\n",
              "      fill: #1967D2;\n",
              "      height: 32px;\n",
              "      padding: 0 0 0 0;\n",
              "      width: 32px;\n",
              "    }\n",
              "\n",
              "    .colab-df-convert:hover {\n",
              "      background-color: #E2EBFA;\n",
              "      box-shadow: 0px 1px 2px rgba(60, 64, 67, 0.3), 0px 1px 3px 1px rgba(60, 64, 67, 0.15);\n",
              "      fill: #174EA6;\n",
              "    }\n",
              "\n",
              "    [theme=dark] .colab-df-convert {\n",
              "      background-color: #3B4455;\n",
              "      fill: #D2E3FC;\n",
              "    }\n",
              "\n",
              "    [theme=dark] .colab-df-convert:hover {\n",
              "      background-color: #434B5C;\n",
              "      box-shadow: 0px 1px 3px 1px rgba(0, 0, 0, 0.15);\n",
              "      filter: drop-shadow(0px 1px 2px rgba(0, 0, 0, 0.3));\n",
              "      fill: #FFFFFF;\n",
              "    }\n",
              "  </style>\n",
              "\n",
              "      <script>\n",
              "        const buttonEl =\n",
              "          document.querySelector('#df-371d7252-9a05-422f-b29d-89d90c89eeba button.colab-df-convert');\n",
              "        buttonEl.style.display =\n",
              "          google.colab.kernel.accessAllowed ? 'block' : 'none';\n",
              "\n",
              "        async function convertToInteractive(key) {\n",
              "          const element = document.querySelector('#df-371d7252-9a05-422f-b29d-89d90c89eeba');\n",
              "          const dataTable =\n",
              "            await google.colab.kernel.invokeFunction('convertToInteractive',\n",
              "                                                     [key], {});\n",
              "          if (!dataTable) return;\n",
              "\n",
              "          const docLinkHtml = 'Like what you see? Visit the ' +\n",
              "            '<a target=\"_blank\" href=https://colab.research.google.com/notebooks/data_table.ipynb>data table notebook</a>'\n",
              "            + ' to learn more about interactive tables.';\n",
              "          element.innerHTML = '';\n",
              "          dataTable['output_type'] = 'display_data';\n",
              "          await google.colab.output.renderOutput(dataTable, element);\n",
              "          const docLink = document.createElement('div');\n",
              "          docLink.innerHTML = docLinkHtml;\n",
              "          element.appendChild(docLink);\n",
              "        }\n",
              "      </script>\n",
              "    </div>\n",
              "  </div>\n",
              "  "
            ]
          },
          "metadata": {},
          "execution_count": 240
        }
      ],
      "source": [
        "def fe_creation(df):\n",
        "    df['age2'] = df['age']//10\n",
        "    df['trestbps2'] = df['trestbps']//10 \n",
        "    df['chol2'] = df['chol']//40\n",
        "    df['thalach2'] = df['thalach']//40\n",
        "    df['oldpeak2'] = df['oldpeak']//0.4\n",
        "    for i in ['sex', 'age2', 'fbs', 'restecg', 'exang','thal', ]:\n",
        "        for j in ['cp','trestbps2', 'chol2', 'thalach2', 'oldpeak2', 'slope', 'ca']:\n",
        "            df[i + \"_\" + j] = df[i].astype('str') + \"_\" + df[j].astype('str')\n",
        "    return df\n",
        "df = fe_creation(df)\n",
        "print(f\"Number of features: {df.shape}\")\n",
        "df.head(5)"
      ]
    },
    {
      "cell_type": "markdown",
      "metadata": {
        "id": "E0hiEvxr4SUd"
      },
      "source": [
        "**Label Encode all the categorical columns**"
      ]
    },
    {
      "cell_type": "code",
      "execution_count": 241,
      "metadata": {
        "id": "-31X57K14Is_"
      },
      "outputs": [],
      "source": [
        "categorical_columns = []\n",
        "numerics = ['int8', 'int16', 'int32', 'int64', 'float16', 'float32', 'float64']\n",
        "features = df.columns.values.tolist()\n",
        "for col in features:\n",
        "    if df[col].dtype in numerics: continue\n",
        "    categorical_columns.append(col)\n",
        "\n",
        "for col in categorical_columns:\n",
        "    if col in df.columns:\n",
        "        le = LabelEncoder()\n",
        "        le.fit(list(df[col].astype(str).values))\n",
        "        df[col] = le.transform(list(df[col].astype(str).values))"
      ]
    },
    {
      "cell_type": "code",
      "execution_count": 242,
      "metadata": {
        "colab": {
          "base_uri": "https://localhost:8080/"
        },
        "id": "lW2M1f0A4eCR",
        "outputId": "2eb13992-874d-4f01-ed77-27105e808829"
      },
      "outputs": [
        {
          "output_type": "execute_result",
          "data": {
            "text/plain": [
              "int64      50\n",
              "float64    11\n",
              "dtype: int64"
            ]
          },
          "metadata": {},
          "execution_count": 242
        }
      ],
      "source": [
        "df.dtypes.value_counts()"
      ]
    },
    {
      "cell_type": "code",
      "execution_count": 243,
      "metadata": {
        "colab": {
          "base_uri": "https://localhost:8080/",
          "height": 0
        },
        "id": "ormnKUfK4f3q",
        "outputId": "8c754789-e546-4cbe-f03d-4a9186509908"
      },
      "outputs": [
        {
          "output_type": "execute_result",
          "data": {
            "text/plain": [
              "    age  sex  cp  trestbps   chol  fbs  restecg  thalach  exang  oldpeak  ...  \\\n",
              "0  63.0    1   3     145.0  233.0    1        0    150.0      0      2.3  ...   \n",
              "1  67.0    1   0     160.0  286.0    0        0    108.0      1      1.5  ...   \n",
              "2  67.0    1   0     120.0  229.0    0        0    129.0      1      2.6  ...   \n",
              "3  37.0    1   2     130.0  250.0    0        1    187.0      0      3.5  ...   \n",
              "4  41.0    0   1     130.0  204.0    0        0    172.0      0      1.4  ...   \n",
              "\n",
              "   exang_oldpeak2  exang_slope  exang_ca  thal_cp  thal_trestbps2  thal_chol2  \\\n",
              "0               5            0         0        5               4           2   \n",
              "1              12            4         8        6              14           9   \n",
              "2              15            4         7       10              18          14   \n",
              "3               8            0         0        8              11           8   \n",
              "4               3            2         0        7              11           7   \n",
              "\n",
              "   thal_thalach2  thal_oldpeak2  thal_slope  thal_ca  \n",
              "0              3              7           2        1  \n",
              "1              5             12           6        8  \n",
              "2             10             24           9       12  \n",
              "3              7             17           5        5  \n",
              "4              7             12           7        5  \n",
              "\n",
              "[5 rows x 61 columns]"
            ],
            "text/html": [
              "\n",
              "  <div id=\"df-aab26591-d11a-41f3-962d-941b3bbc1799\">\n",
              "    <div class=\"colab-df-container\">\n",
              "      <div>\n",
              "<style scoped>\n",
              "    .dataframe tbody tr th:only-of-type {\n",
              "        vertical-align: middle;\n",
              "    }\n",
              "\n",
              "    .dataframe tbody tr th {\n",
              "        vertical-align: top;\n",
              "    }\n",
              "\n",
              "    .dataframe thead th {\n",
              "        text-align: right;\n",
              "    }\n",
              "</style>\n",
              "<table border=\"1\" class=\"dataframe\">\n",
              "  <thead>\n",
              "    <tr style=\"text-align: right;\">\n",
              "      <th></th>\n",
              "      <th>age</th>\n",
              "      <th>sex</th>\n",
              "      <th>cp</th>\n",
              "      <th>trestbps</th>\n",
              "      <th>chol</th>\n",
              "      <th>fbs</th>\n",
              "      <th>restecg</th>\n",
              "      <th>thalach</th>\n",
              "      <th>exang</th>\n",
              "      <th>oldpeak</th>\n",
              "      <th>...</th>\n",
              "      <th>exang_oldpeak2</th>\n",
              "      <th>exang_slope</th>\n",
              "      <th>exang_ca</th>\n",
              "      <th>thal_cp</th>\n",
              "      <th>thal_trestbps2</th>\n",
              "      <th>thal_chol2</th>\n",
              "      <th>thal_thalach2</th>\n",
              "      <th>thal_oldpeak2</th>\n",
              "      <th>thal_slope</th>\n",
              "      <th>thal_ca</th>\n",
              "    </tr>\n",
              "  </thead>\n",
              "  <tbody>\n",
              "    <tr>\n",
              "      <th>0</th>\n",
              "      <td>63.0</td>\n",
              "      <td>1</td>\n",
              "      <td>3</td>\n",
              "      <td>145.0</td>\n",
              "      <td>233.0</td>\n",
              "      <td>1</td>\n",
              "      <td>0</td>\n",
              "      <td>150.0</td>\n",
              "      <td>0</td>\n",
              "      <td>2.3</td>\n",
              "      <td>...</td>\n",
              "      <td>5</td>\n",
              "      <td>0</td>\n",
              "      <td>0</td>\n",
              "      <td>5</td>\n",
              "      <td>4</td>\n",
              "      <td>2</td>\n",
              "      <td>3</td>\n",
              "      <td>7</td>\n",
              "      <td>2</td>\n",
              "      <td>1</td>\n",
              "    </tr>\n",
              "    <tr>\n",
              "      <th>1</th>\n",
              "      <td>67.0</td>\n",
              "      <td>1</td>\n",
              "      <td>0</td>\n",
              "      <td>160.0</td>\n",
              "      <td>286.0</td>\n",
              "      <td>0</td>\n",
              "      <td>0</td>\n",
              "      <td>108.0</td>\n",
              "      <td>1</td>\n",
              "      <td>1.5</td>\n",
              "      <td>...</td>\n",
              "      <td>12</td>\n",
              "      <td>4</td>\n",
              "      <td>8</td>\n",
              "      <td>6</td>\n",
              "      <td>14</td>\n",
              "      <td>9</td>\n",
              "      <td>5</td>\n",
              "      <td>12</td>\n",
              "      <td>6</td>\n",
              "      <td>8</td>\n",
              "    </tr>\n",
              "    <tr>\n",
              "      <th>2</th>\n",
              "      <td>67.0</td>\n",
              "      <td>1</td>\n",
              "      <td>0</td>\n",
              "      <td>120.0</td>\n",
              "      <td>229.0</td>\n",
              "      <td>0</td>\n",
              "      <td>0</td>\n",
              "      <td>129.0</td>\n",
              "      <td>1</td>\n",
              "      <td>2.6</td>\n",
              "      <td>...</td>\n",
              "      <td>15</td>\n",
              "      <td>4</td>\n",
              "      <td>7</td>\n",
              "      <td>10</td>\n",
              "      <td>18</td>\n",
              "      <td>14</td>\n",
              "      <td>10</td>\n",
              "      <td>24</td>\n",
              "      <td>9</td>\n",
              "      <td>12</td>\n",
              "    </tr>\n",
              "    <tr>\n",
              "      <th>3</th>\n",
              "      <td>37.0</td>\n",
              "      <td>1</td>\n",
              "      <td>2</td>\n",
              "      <td>130.0</td>\n",
              "      <td>250.0</td>\n",
              "      <td>0</td>\n",
              "      <td>1</td>\n",
              "      <td>187.0</td>\n",
              "      <td>0</td>\n",
              "      <td>3.5</td>\n",
              "      <td>...</td>\n",
              "      <td>8</td>\n",
              "      <td>0</td>\n",
              "      <td>0</td>\n",
              "      <td>8</td>\n",
              "      <td>11</td>\n",
              "      <td>8</td>\n",
              "      <td>7</td>\n",
              "      <td>17</td>\n",
              "      <td>5</td>\n",
              "      <td>5</td>\n",
              "    </tr>\n",
              "    <tr>\n",
              "      <th>4</th>\n",
              "      <td>41.0</td>\n",
              "      <td>0</td>\n",
              "      <td>1</td>\n",
              "      <td>130.0</td>\n",
              "      <td>204.0</td>\n",
              "      <td>0</td>\n",
              "      <td>0</td>\n",
              "      <td>172.0</td>\n",
              "      <td>0</td>\n",
              "      <td>1.4</td>\n",
              "      <td>...</td>\n",
              "      <td>3</td>\n",
              "      <td>2</td>\n",
              "      <td>0</td>\n",
              "      <td>7</td>\n",
              "      <td>11</td>\n",
              "      <td>7</td>\n",
              "      <td>7</td>\n",
              "      <td>12</td>\n",
              "      <td>7</td>\n",
              "      <td>5</td>\n",
              "    </tr>\n",
              "  </tbody>\n",
              "</table>\n",
              "<p>5 rows × 61 columns</p>\n",
              "</div>\n",
              "      <button class=\"colab-df-convert\" onclick=\"convertToInteractive('df-aab26591-d11a-41f3-962d-941b3bbc1799')\"\n",
              "              title=\"Convert this dataframe to an interactive table.\"\n",
              "              style=\"display:none;\">\n",
              "        \n",
              "  <svg xmlns=\"http://www.w3.org/2000/svg\" height=\"24px\"viewBox=\"0 0 24 24\"\n",
              "       width=\"24px\">\n",
              "    <path d=\"M0 0h24v24H0V0z\" fill=\"none\"/>\n",
              "    <path d=\"M18.56 5.44l.94 2.06.94-2.06 2.06-.94-2.06-.94-.94-2.06-.94 2.06-2.06.94zm-11 1L8.5 8.5l.94-2.06 2.06-.94-2.06-.94L8.5 2.5l-.94 2.06-2.06.94zm10 10l.94 2.06.94-2.06 2.06-.94-2.06-.94-.94-2.06-.94 2.06-2.06.94z\"/><path d=\"M17.41 7.96l-1.37-1.37c-.4-.4-.92-.59-1.43-.59-.52 0-1.04.2-1.43.59L10.3 9.45l-7.72 7.72c-.78.78-.78 2.05 0 2.83L4 21.41c.39.39.9.59 1.41.59.51 0 1.02-.2 1.41-.59l7.78-7.78 2.81-2.81c.8-.78.8-2.07 0-2.86zM5.41 20L4 18.59l7.72-7.72 1.47 1.35L5.41 20z\"/>\n",
              "  </svg>\n",
              "      </button>\n",
              "      \n",
              "  <style>\n",
              "    .colab-df-container {\n",
              "      display:flex;\n",
              "      flex-wrap:wrap;\n",
              "      gap: 12px;\n",
              "    }\n",
              "\n",
              "    .colab-df-convert {\n",
              "      background-color: #E8F0FE;\n",
              "      border: none;\n",
              "      border-radius: 50%;\n",
              "      cursor: pointer;\n",
              "      display: none;\n",
              "      fill: #1967D2;\n",
              "      height: 32px;\n",
              "      padding: 0 0 0 0;\n",
              "      width: 32px;\n",
              "    }\n",
              "\n",
              "    .colab-df-convert:hover {\n",
              "      background-color: #E2EBFA;\n",
              "      box-shadow: 0px 1px 2px rgba(60, 64, 67, 0.3), 0px 1px 3px 1px rgba(60, 64, 67, 0.15);\n",
              "      fill: #174EA6;\n",
              "    }\n",
              "\n",
              "    [theme=dark] .colab-df-convert {\n",
              "      background-color: #3B4455;\n",
              "      fill: #D2E3FC;\n",
              "    }\n",
              "\n",
              "    [theme=dark] .colab-df-convert:hover {\n",
              "      background-color: #434B5C;\n",
              "      box-shadow: 0px 1px 3px 1px rgba(0, 0, 0, 0.15);\n",
              "      filter: drop-shadow(0px 1px 2px rgba(0, 0, 0, 0.3));\n",
              "      fill: #FFFFFF;\n",
              "    }\n",
              "  </style>\n",
              "\n",
              "      <script>\n",
              "        const buttonEl =\n",
              "          document.querySelector('#df-aab26591-d11a-41f3-962d-941b3bbc1799 button.colab-df-convert');\n",
              "        buttonEl.style.display =\n",
              "          google.colab.kernel.accessAllowed ? 'block' : 'none';\n",
              "\n",
              "        async function convertToInteractive(key) {\n",
              "          const element = document.querySelector('#df-aab26591-d11a-41f3-962d-941b3bbc1799');\n",
              "          const dataTable =\n",
              "            await google.colab.kernel.invokeFunction('convertToInteractive',\n",
              "                                                     [key], {});\n",
              "          if (!dataTable) return;\n",
              "\n",
              "          const docLinkHtml = 'Like what you see? Visit the ' +\n",
              "            '<a target=\"_blank\" href=https://colab.research.google.com/notebooks/data_table.ipynb>data table notebook</a>'\n",
              "            + ' to learn more about interactive tables.';\n",
              "          element.innerHTML = '';\n",
              "          dataTable['output_type'] = 'display_data';\n",
              "          await google.colab.output.renderOutput(dataTable, element);\n",
              "          const docLink = document.createElement('div');\n",
              "          docLink.innerHTML = docLinkHtml;\n",
              "          element.appendChild(docLink);\n",
              "        }\n",
              "      </script>\n",
              "    </div>\n",
              "  </div>\n",
              "  "
            ]
          },
          "metadata": {},
          "execution_count": 243
        }
      ],
      "source": [
        "df.head()"
      ]
    },
    {
      "cell_type": "markdown",
      "metadata": {
        "id": "cgNT6c986hUy"
      },
      "source": [
        "# **Feature-Selection**"
      ]
    },
    {
      "cell_type": "markdown",
      "metadata": {
        "id": "_VTDudhM7k06"
      },
      "source": [
        "**In this section, we will be using various feature selection techniques to find the optimium set of features and then takes the intersection of the features generated by the different techniques.**"
      ]
    },
    {
      "cell_type": "code",
      "execution_count": 244,
      "metadata": {
        "id": "Y9iuGk5n6cRK"
      },
      "outputs": [],
      "source": [
        "X = df.drop('target',axis=1)\n",
        "y = df.target\n",
        "num_features_opt = 25   # the number of features that we need to choose as a result\n",
        "num_features_max = 35   # the somewhat excessive number of features, which we will choose at each stage\n",
        "features_best = []"
      ]
    },
    {
      "cell_type": "markdown",
      "metadata": {
        "id": "7GUaHz1Y79po"
      },
      "source": [
        "## **Features selection with Pearsons correlation**\n",
        "\n",
        "> ![](https://miro.medium.com/max/2919/1*OgRpdNHGsxjrWwqolc1jpw.png)"
      ]
    },
    {
      "cell_type": "code",
      "execution_count": 245,
      "metadata": {
        "colab": {
          "base_uri": "https://localhost:8080/"
        },
        "id": "uGOhHLqI76tu",
        "outputId": "14bce206-4fb2-427a-add5-28706c191e34"
      },
      "outputs": [
        {
          "output_type": "stream",
          "name": "stdout",
          "text": [
            "The number of features that passed the collinearity threshold:  28\n"
          ]
        },
        {
          "output_type": "execute_result",
          "data": {
            "text/plain": [
              "[['age',\n",
              "  'sex',\n",
              "  'cp',\n",
              "  'trestbps',\n",
              "  'chol',\n",
              "  'fbs',\n",
              "  'restecg',\n",
              "  'thalach',\n",
              "  'exang',\n",
              "  'oldpeak',\n",
              "  'slope',\n",
              "  'ca',\n",
              "  'thal',\n",
              "  'target',\n",
              "  'thalach2',\n",
              "  'sex_cp',\n",
              "  'sex_thalach2',\n",
              "  'sex_oldpeak2',\n",
              "  'sex_ca',\n",
              "  'fbs_cp',\n",
              "  'fbs_trestbps2',\n",
              "  'fbs_thalach2',\n",
              "  'fbs_oldpeak2',\n",
              "  'fbs_slope',\n",
              "  'fbs_ca',\n",
              "  'restecg_cp',\n",
              "  'restecg_oldpeak2',\n",
              "  'exang_cp']]"
            ]
          },
          "metadata": {},
          "execution_count": 245
        }
      ],
      "source": [
        "threshold = 0.9\n",
        "# Absolute value correlation matrix\n",
        "corr_matrix = df.corr().abs().round(2)\n",
        "upper = corr_matrix.where(np.triu(np.ones(corr_matrix.shape), k=1).astype(np.bool))\n",
        "# Select columns with correlations above threshold\n",
        "collinear_features = [column for column in upper.columns if any(upper[column] > threshold)]\n",
        "features_filtered = df.drop(columns = collinear_features)\n",
        "print('The number of features that passed the collinearity threshold: ', features_filtered.shape[1])\n",
        "features_best.append(features_filtered.columns.tolist())\n",
        "features_best"
      ]
    },
    {
      "cell_type": "markdown",
      "metadata": {
        "id": "G-NYyn3j84OT"
      },
      "source": [
        "## **Feature Selection with Linear SVC**"
      ]
    },
    {
      "cell_type": "code",
      "execution_count": 246,
      "metadata": {
        "id": "BcfTam0I8rdu"
      },
      "outputs": [],
      "source": [
        "lsvc = LinearSVC(C=0.1, penalty=\"l1\", dual=False).fit(X, y)\n",
        "model = SelectFromModel(lsvc, prefit=True)\n",
        "X_new = model.transform(X)\n",
        "X_selected_df = pd.DataFrame(X_new, columns=[X.columns[i] for i in range(len(X.columns)) if model.get_support()[i]])\n",
        "features_best.append(X_selected_df.columns.tolist())\n",
        "# features_best"
      ]
    },
    {
      "cell_type": "markdown",
      "metadata": {
        "id": "k6Vkutiv9VT4"
      },
      "source": [
        "## **Feature selection with Lasso**"
      ]
    },
    {
      "cell_type": "code",
      "execution_count": 247,
      "metadata": {
        "id": "CbgD6PMK891H"
      },
      "outputs": [],
      "source": [
        "lasso = LassoCV(cv=10).fit(X, y)\n",
        "model = SelectFromModel(lasso, prefit=True)\n",
        "X_new = model.transform(X)\n",
        "X_selected_df = pd.DataFrame(X_new, columns=[X.columns[i] for i in range(len(X.columns)) if model.get_support()[i]])\n",
        "features_best.append(X_selected_df.columns.tolist())\n",
        "# features_best"
      ]
    },
    {
      "cell_type": "markdown",
      "metadata": {
        "id": "oaiLsoFz9isf"
      },
      "source": [
        "## **Feature Selection with Chi-2**"
      ]
    },
    {
      "cell_type": "code",
      "execution_count": 248,
      "metadata": {
        "id": "95E9-K4q9dl2"
      },
      "outputs": [],
      "source": [
        "bestfeatures = SelectKBest(score_func=chi2, k='all')\n",
        "fit = bestfeatures.fit(X, y)\n",
        "dfscores = pd.DataFrame(fit.scores_)\n",
        "dfcolumns = pd.DataFrame(X.columns)\n",
        "\n",
        "featureScores = pd.concat([dfcolumns,dfscores],axis=1)\n",
        "featureScores.columns = ['Feature','Score']  #naming the dataframe columns\n",
        "features_best.append(featureScores.nlargest(num_features_max,'Score')['Feature'].tolist())\n",
        "# print(featureScores.nlargest(len(dfcolumns),'Score')) "
      ]
    },
    {
      "cell_type": "markdown",
      "metadata": {
        "id": "64DmQhgs9toO"
      },
      "source": [
        "## **Feature Selection by Recursive Feature Elimination (RFE) and Logistic Regression**"
      ]
    },
    {
      "cell_type": "code",
      "execution_count": 249,
      "metadata": {
        "colab": {
          "base_uri": "https://localhost:8080/"
        },
        "id": "TMHFfg4U9o7S",
        "outputId": "166415b3-e2a9-4b1e-ff19-f34f23c8c3e1"
      },
      "outputs": [
        {
          "output_type": "stream",
          "name": "stdout",
          "text": [
            "Fitting estimator with 60 features.\n",
            "Fitting estimator with 50 features.\n",
            "Fitting estimator with 40 features.\n"
          ]
        }
      ],
      "source": [
        "rfe_selector = RFE(estimator=LogisticRegression(), n_features_to_select=num_features_max, step=10, verbose=5)\n",
        "rfe_selector.fit(X, y)\n",
        "rfe_support = rfe_selector.get_support()\n",
        "rfe_feature = X.loc[:,rfe_support].columns.tolist()\n",
        "# print(str(len(rfe_feature)), 'selected features')\n",
        "features_best.append(rfe_feature)\n",
        "# features_best"
      ]
    },
    {
      "cell_type": "markdown",
      "metadata": {
        "id": "iqAYSIKh-AAV"
      },
      "source": [
        "## **Feature Selection by Recursive Feature Elimination (RFE) and Random Forest Classifier**"
      ]
    },
    {
      "cell_type": "code",
      "execution_count": 250,
      "metadata": {
        "colab": {
          "base_uri": "https://localhost:8080/"
        },
        "id": "gJL-7Jo991Tq",
        "outputId": "9796bb52-ef25-43af-a927-d0aad1bbb43f"
      },
      "outputs": [
        {
          "output_type": "stream",
          "name": "stdout",
          "text": [
            "19 selected features\n"
          ]
        }
      ],
      "source": [
        "embeded_rf_selector = SelectFromModel(RandomForestClassifier(n_estimators=200), threshold='1.25*median')\n",
        "embeded_rf_selector.fit(X, y)\n",
        "embeded_rf_support = embeded_rf_selector.get_support()\n",
        "embeded_rf_feature = X.loc[:,embeded_rf_support].columns.tolist()\n",
        "print(str(len(embeded_rf_feature)), 'selected features')\n",
        "features_best.append(embeded_rf_feature)\n",
        "# features_best"
      ]
    },
    {
      "cell_type": "markdown",
      "metadata": {
        "id": "c7R_-Eyj-KfK"
      },
      "source": [
        "## **Feature Selection using Variance Threshold**"
      ]
    },
    {
      "cell_type": "code",
      "execution_count": 251,
      "metadata": {
        "id": "lTjvNS5o-Hn5"
      },
      "outputs": [],
      "source": [
        "selector = VarianceThreshold(threshold=10)\n",
        "np.shape(selector.fit_transform(df))\n",
        "features_best.append(list(np.array(df.columns)[selector.get_support(indices=False)]))\n",
        "# features_best"
      ]
    },
    {
      "cell_type": "markdown",
      "metadata": {
        "id": "c4-Z88m7-UtP"
      },
      "source": [
        "***Features that occur atleast once in outputs of one of the above feature selection method***."
      ]
    },
    {
      "cell_type": "code",
      "execution_count": 252,
      "metadata": {
        "colab": {
          "base_uri": "https://localhost:8080/"
        },
        "id": "sfSahgQx-O6p",
        "outputId": "f1dc2e77-bcd0-401f-a364-dcb8c1f0a26d"
      },
      "outputs": [
        {
          "output_type": "execute_result",
          "data": {
            "text/plain": [
              "54"
            ]
          },
          "metadata": {},
          "execution_count": 252
        }
      ],
      "source": [
        "main_cols_max = features_best[0]\n",
        "for i in range(len(features_best)-1):\n",
        "    main_cols_max = list(set(main_cols_max) | set(features_best[i+1]))\n",
        "# main_cols_max\n",
        "len(main_cols_max)"
      ]
    },
    {
      "cell_type": "markdown",
      "metadata": {
        "id": "zFhy3LOy-x9h"
      },
      "source": [
        "***Features that occur in all the outputs of the above feature selection methods.***"
      ]
    },
    {
      "cell_type": "code",
      "execution_count": 253,
      "metadata": {
        "colab": {
          "base_uri": "https://localhost:8080/"
        },
        "id": "PcprPiHZ-p1p",
        "outputId": "92ca3fba-a4be-4109-ca01-a3f7ab2c24bb"
      },
      "outputs": [
        {
          "output_type": "execute_result",
          "data": {
            "text/plain": [
              "['age']"
            ]
          },
          "metadata": {},
          "execution_count": 253
        }
      ],
      "source": [
        "main_cols_min = features_best[0]\n",
        "for i in range(len(features_best)-1):\n",
        "    main_cols_min = list(set(main_cols_min).intersection(set(features_best[i+1])))\n",
        "main_cols_min"
      ]
    },
    {
      "cell_type": "markdown",
      "metadata": {
        "id": "kljUVWs3_MVj"
      },
      "source": [
        "***Most common features in all list of features***"
      ]
    },
    {
      "cell_type": "code",
      "execution_count": 254,
      "metadata": {
        "colab": {
          "base_uri": "https://localhost:8080/",
          "height": 0
        },
        "id": "W9UDPvSy-6ka",
        "outputId": "6053347e-25cf-4bbe-f387-cfce7d7defe6"
      },
      "outputs": [
        {
          "output_type": "execute_result",
          "data": {
            "text/plain": [
              "                   Num\n",
              "age                  7\n",
              "thalach              6\n",
              "fbs_oldpeak2         6\n",
              "ca                   6\n",
              "sex_oldpeak2         6\n",
              "exang_oldpeak2       6\n",
              "sex_ca               6\n",
              "chol                 6\n",
              "thal_oldpeak2        6\n",
              "exang_ca             5\n",
              "thal_trestbps2       5\n",
              "restecg_trestbps2    5\n",
              "thal_chol2           5\n",
              "restecg_cp           5\n",
              "fbs_ca               5\n",
              "age2_ca              5\n",
              "age2_trestbps2       5\n",
              "restecg_oldpeak2     5\n",
              "thal_ca              5\n",
              "trestbps             5\n",
              "thal_cp              4\n",
              "exang_trestbps2      4\n",
              "fbs_trestbps2        4\n",
              "fbs_cp               4\n",
              "oldpeak              4"
            ],
            "text/html": [
              "\n",
              "  <div id=\"df-a3d89df4-e4ae-47e5-88cd-a8b0c3ac2641\">\n",
              "    <div class=\"colab-df-container\">\n",
              "      <div>\n",
              "<style scoped>\n",
              "    .dataframe tbody tr th:only-of-type {\n",
              "        vertical-align: middle;\n",
              "    }\n",
              "\n",
              "    .dataframe tbody tr th {\n",
              "        vertical-align: top;\n",
              "    }\n",
              "\n",
              "    .dataframe thead th {\n",
              "        text-align: right;\n",
              "    }\n",
              "</style>\n",
              "<table border=\"1\" class=\"dataframe\">\n",
              "  <thead>\n",
              "    <tr style=\"text-align: right;\">\n",
              "      <th></th>\n",
              "      <th>Num</th>\n",
              "    </tr>\n",
              "  </thead>\n",
              "  <tbody>\n",
              "    <tr>\n",
              "      <th>age</th>\n",
              "      <td>7</td>\n",
              "    </tr>\n",
              "    <tr>\n",
              "      <th>thalach</th>\n",
              "      <td>6</td>\n",
              "    </tr>\n",
              "    <tr>\n",
              "      <th>fbs_oldpeak2</th>\n",
              "      <td>6</td>\n",
              "    </tr>\n",
              "    <tr>\n",
              "      <th>ca</th>\n",
              "      <td>6</td>\n",
              "    </tr>\n",
              "    <tr>\n",
              "      <th>sex_oldpeak2</th>\n",
              "      <td>6</td>\n",
              "    </tr>\n",
              "    <tr>\n",
              "      <th>exang_oldpeak2</th>\n",
              "      <td>6</td>\n",
              "    </tr>\n",
              "    <tr>\n",
              "      <th>sex_ca</th>\n",
              "      <td>6</td>\n",
              "    </tr>\n",
              "    <tr>\n",
              "      <th>chol</th>\n",
              "      <td>6</td>\n",
              "    </tr>\n",
              "    <tr>\n",
              "      <th>thal_oldpeak2</th>\n",
              "      <td>6</td>\n",
              "    </tr>\n",
              "    <tr>\n",
              "      <th>exang_ca</th>\n",
              "      <td>5</td>\n",
              "    </tr>\n",
              "    <tr>\n",
              "      <th>thal_trestbps2</th>\n",
              "      <td>5</td>\n",
              "    </tr>\n",
              "    <tr>\n",
              "      <th>restecg_trestbps2</th>\n",
              "      <td>5</td>\n",
              "    </tr>\n",
              "    <tr>\n",
              "      <th>thal_chol2</th>\n",
              "      <td>5</td>\n",
              "    </tr>\n",
              "    <tr>\n",
              "      <th>restecg_cp</th>\n",
              "      <td>5</td>\n",
              "    </tr>\n",
              "    <tr>\n",
              "      <th>fbs_ca</th>\n",
              "      <td>5</td>\n",
              "    </tr>\n",
              "    <tr>\n",
              "      <th>age2_ca</th>\n",
              "      <td>5</td>\n",
              "    </tr>\n",
              "    <tr>\n",
              "      <th>age2_trestbps2</th>\n",
              "      <td>5</td>\n",
              "    </tr>\n",
              "    <tr>\n",
              "      <th>restecg_oldpeak2</th>\n",
              "      <td>5</td>\n",
              "    </tr>\n",
              "    <tr>\n",
              "      <th>thal_ca</th>\n",
              "      <td>5</td>\n",
              "    </tr>\n",
              "    <tr>\n",
              "      <th>trestbps</th>\n",
              "      <td>5</td>\n",
              "    </tr>\n",
              "    <tr>\n",
              "      <th>thal_cp</th>\n",
              "      <td>4</td>\n",
              "    </tr>\n",
              "    <tr>\n",
              "      <th>exang_trestbps2</th>\n",
              "      <td>4</td>\n",
              "    </tr>\n",
              "    <tr>\n",
              "      <th>fbs_trestbps2</th>\n",
              "      <td>4</td>\n",
              "    </tr>\n",
              "    <tr>\n",
              "      <th>fbs_cp</th>\n",
              "      <td>4</td>\n",
              "    </tr>\n",
              "    <tr>\n",
              "      <th>oldpeak</th>\n",
              "      <td>4</td>\n",
              "    </tr>\n",
              "  </tbody>\n",
              "</table>\n",
              "</div>\n",
              "      <button class=\"colab-df-convert\" onclick=\"convertToInteractive('df-a3d89df4-e4ae-47e5-88cd-a8b0c3ac2641')\"\n",
              "              title=\"Convert this dataframe to an interactive table.\"\n",
              "              style=\"display:none;\">\n",
              "        \n",
              "  <svg xmlns=\"http://www.w3.org/2000/svg\" height=\"24px\"viewBox=\"0 0 24 24\"\n",
              "       width=\"24px\">\n",
              "    <path d=\"M0 0h24v24H0V0z\" fill=\"none\"/>\n",
              "    <path d=\"M18.56 5.44l.94 2.06.94-2.06 2.06-.94-2.06-.94-.94-2.06-.94 2.06-2.06.94zm-11 1L8.5 8.5l.94-2.06 2.06-.94-2.06-.94L8.5 2.5l-.94 2.06-2.06.94zm10 10l.94 2.06.94-2.06 2.06-.94-2.06-.94-.94-2.06-.94 2.06-2.06.94z\"/><path d=\"M17.41 7.96l-1.37-1.37c-.4-.4-.92-.59-1.43-.59-.52 0-1.04.2-1.43.59L10.3 9.45l-7.72 7.72c-.78.78-.78 2.05 0 2.83L4 21.41c.39.39.9.59 1.41.59.51 0 1.02-.2 1.41-.59l7.78-7.78 2.81-2.81c.8-.78.8-2.07 0-2.86zM5.41 20L4 18.59l7.72-7.72 1.47 1.35L5.41 20z\"/>\n",
              "  </svg>\n",
              "      </button>\n",
              "      \n",
              "  <style>\n",
              "    .colab-df-container {\n",
              "      display:flex;\n",
              "      flex-wrap:wrap;\n",
              "      gap: 12px;\n",
              "    }\n",
              "\n",
              "    .colab-df-convert {\n",
              "      background-color: #E8F0FE;\n",
              "      border: none;\n",
              "      border-radius: 50%;\n",
              "      cursor: pointer;\n",
              "      display: none;\n",
              "      fill: #1967D2;\n",
              "      height: 32px;\n",
              "      padding: 0 0 0 0;\n",
              "      width: 32px;\n",
              "    }\n",
              "\n",
              "    .colab-df-convert:hover {\n",
              "      background-color: #E2EBFA;\n",
              "      box-shadow: 0px 1px 2px rgba(60, 64, 67, 0.3), 0px 1px 3px 1px rgba(60, 64, 67, 0.15);\n",
              "      fill: #174EA6;\n",
              "    }\n",
              "\n",
              "    [theme=dark] .colab-df-convert {\n",
              "      background-color: #3B4455;\n",
              "      fill: #D2E3FC;\n",
              "    }\n",
              "\n",
              "    [theme=dark] .colab-df-convert:hover {\n",
              "      background-color: #434B5C;\n",
              "      box-shadow: 0px 1px 3px 1px rgba(0, 0, 0, 0.15);\n",
              "      filter: drop-shadow(0px 1px 2px rgba(0, 0, 0, 0.3));\n",
              "      fill: #FFFFFF;\n",
              "    }\n",
              "  </style>\n",
              "\n",
              "      <script>\n",
              "        const buttonEl =\n",
              "          document.querySelector('#df-a3d89df4-e4ae-47e5-88cd-a8b0c3ac2641 button.colab-df-convert');\n",
              "        buttonEl.style.display =\n",
              "          google.colab.kernel.accessAllowed ? 'block' : 'none';\n",
              "\n",
              "        async function convertToInteractive(key) {\n",
              "          const element = document.querySelector('#df-a3d89df4-e4ae-47e5-88cd-a8b0c3ac2641');\n",
              "          const dataTable =\n",
              "            await google.colab.kernel.invokeFunction('convertToInteractive',\n",
              "                                                     [key], {});\n",
              "          if (!dataTable) return;\n",
              "\n",
              "          const docLinkHtml = 'Like what you see? Visit the ' +\n",
              "            '<a target=\"_blank\" href=https://colab.research.google.com/notebooks/data_table.ipynb>data table notebook</a>'\n",
              "            + ' to learn more about interactive tables.';\n",
              "          element.innerHTML = '';\n",
              "          dataTable['output_type'] = 'display_data';\n",
              "          await google.colab.output.renderOutput(dataTable, element);\n",
              "          const docLink = document.createElement('div');\n",
              "          docLink.innerHTML = docLinkHtml;\n",
              "          element.appendChild(docLink);\n",
              "        }\n",
              "      </script>\n",
              "    </div>\n",
              "  </div>\n",
              "  "
            ]
          },
          "metadata": {},
          "execution_count": 254
        }
      ],
      "source": [
        "main_cols = []\n",
        "main_cols_opt = {feature_name : 0 for feature_name in df.columns.tolist()}\n",
        "for i in range(len(features_best)):\n",
        "    for feature_name in features_best[i]:\n",
        "        main_cols_opt[feature_name] += 1\n",
        "df_main_cols_opt = pd.DataFrame.from_dict(main_cols_opt, orient='index', columns=['Num'])\n",
        "df_main_cols_opt.sort_values(by=['Num'], ascending=False).head(num_features_opt)"
      ]
    },
    {
      "cell_type": "markdown",
      "metadata": {
        "id": "9E3MdcAJ_fbz"
      },
      "source": [
        "*Adding **target** to the selected features*"
      ]
    },
    {
      "cell_type": "code",
      "execution_count": 255,
      "metadata": {
        "id": "AwVhqPOu_Ui1"
      },
      "outputs": [],
      "source": [
        "main_cols = df_main_cols_opt.nlargest(num_features_opt, 'Num').index.tolist()\n",
        "if not 'target' in main_cols:\n",
        "    main_cols.append('target')\n",
        "# main_cols"
      ]
    },
    {
      "cell_type": "markdown",
      "metadata": {
        "id": "Bun9ygNA_qCi"
      },
      "source": [
        "***Saving the selected features***"
      ]
    },
    {
      "cell_type": "code",
      "execution_count": 256,
      "metadata": {
        "id": "0FMjs4xx_oUd"
      },
      "outputs": [],
      "source": [
        "df_fs = df[main_cols]\n",
        "df_fs.to_csv('final_data_FE+FS.csv',index=False)"
      ]
    },
    {
      "cell_type": "markdown",
      "metadata": {
        "id": "QOcHgsM-AXM5"
      },
      "source": [
        "# **Data-Preparation**"
      ]
    },
    {
      "cell_type": "code",
      "execution_count": 257,
      "metadata": {
        "colab": {
          "base_uri": "https://localhost:8080/",
          "height": 317
        },
        "id": "PyYlV0-y_1ct",
        "outputId": "0f8032ec-3ac3-4472-dd3c-2bc27b5f4cd0"
      },
      "outputs": [
        {
          "output_type": "stream",
          "name": "stdout",
          "text": [
            "Shape: (283, 26)\n"
          ]
        },
        {
          "output_type": "execute_result",
          "data": {
            "text/plain": [
              "      age   chol  thalach   ca  sex_oldpeak2  sex_ca  fbs_oldpeak2  \\\n",
              "178  45.0  309.0    147.0  3.0             8       7             0   \n",
              "140  35.0  282.0    156.0  0.0             8       4             0   \n",
              "234  61.0  207.0    138.0  1.0            12       5             4   \n",
              "85   66.0  302.0    151.0  0.0             9       4             1   \n",
              "70   65.0  360.0    151.0  0.0             2       0             2   \n",
              "\n",
              "     exang_oldpeak2  thal_oldpeak2  trestbps  ...  exang_ca  thal_trestbps2  \\\n",
              "178               9             18     142.0  ...         8              20   \n",
              "140               9             18     126.0  ...         5              18   \n",
              "234              13             22     140.0  ...         6              20   \n",
              "85                1             10     120.0  ...         0              10   \n",
              "70                2             11     160.0  ...         0              14   \n",
              "\n",
              "     thal_chol2  thal_ca  cp  oldpeak  oldpeak2  sex_trestbps2  sex_chol2  \\\n",
              "178          16       13   0      0.0       0.0             13         11   \n",
              "140          16       10   0      0.0       0.0             11         11   \n",
              "234          14       11   0      1.9       4.0             13          9   \n",
              "85            9        5   0      0.4       1.0             11         11   \n",
              "70           11        5   2      0.8       2.0              6          6   \n",
              "\n",
              "     target  \n",
              "178       3  \n",
              "140       1  \n",
              "234       1  \n",
              "85        0  \n",
              "70        0  \n",
              "\n",
              "[5 rows x 26 columns]"
            ],
            "text/html": [
              "\n",
              "  <div id=\"df-24df1cd0-2fb2-4219-ac79-f3c6db60abc4\">\n",
              "    <div class=\"colab-df-container\">\n",
              "      <div>\n",
              "<style scoped>\n",
              "    .dataframe tbody tr th:only-of-type {\n",
              "        vertical-align: middle;\n",
              "    }\n",
              "\n",
              "    .dataframe tbody tr th {\n",
              "        vertical-align: top;\n",
              "    }\n",
              "\n",
              "    .dataframe thead th {\n",
              "        text-align: right;\n",
              "    }\n",
              "</style>\n",
              "<table border=\"1\" class=\"dataframe\">\n",
              "  <thead>\n",
              "    <tr style=\"text-align: right;\">\n",
              "      <th></th>\n",
              "      <th>age</th>\n",
              "      <th>chol</th>\n",
              "      <th>thalach</th>\n",
              "      <th>ca</th>\n",
              "      <th>sex_oldpeak2</th>\n",
              "      <th>sex_ca</th>\n",
              "      <th>fbs_oldpeak2</th>\n",
              "      <th>exang_oldpeak2</th>\n",
              "      <th>thal_oldpeak2</th>\n",
              "      <th>trestbps</th>\n",
              "      <th>...</th>\n",
              "      <th>exang_ca</th>\n",
              "      <th>thal_trestbps2</th>\n",
              "      <th>thal_chol2</th>\n",
              "      <th>thal_ca</th>\n",
              "      <th>cp</th>\n",
              "      <th>oldpeak</th>\n",
              "      <th>oldpeak2</th>\n",
              "      <th>sex_trestbps2</th>\n",
              "      <th>sex_chol2</th>\n",
              "      <th>target</th>\n",
              "    </tr>\n",
              "  </thead>\n",
              "  <tbody>\n",
              "    <tr>\n",
              "      <th>178</th>\n",
              "      <td>45.0</td>\n",
              "      <td>309.0</td>\n",
              "      <td>147.0</td>\n",
              "      <td>3.0</td>\n",
              "      <td>8</td>\n",
              "      <td>7</td>\n",
              "      <td>0</td>\n",
              "      <td>9</td>\n",
              "      <td>18</td>\n",
              "      <td>142.0</td>\n",
              "      <td>...</td>\n",
              "      <td>8</td>\n",
              "      <td>20</td>\n",
              "      <td>16</td>\n",
              "      <td>13</td>\n",
              "      <td>0</td>\n",
              "      <td>0.0</td>\n",
              "      <td>0.0</td>\n",
              "      <td>13</td>\n",
              "      <td>11</td>\n",
              "      <td>3</td>\n",
              "    </tr>\n",
              "    <tr>\n",
              "      <th>140</th>\n",
              "      <td>35.0</td>\n",
              "      <td>282.0</td>\n",
              "      <td>156.0</td>\n",
              "      <td>0.0</td>\n",
              "      <td>8</td>\n",
              "      <td>4</td>\n",
              "      <td>0</td>\n",
              "      <td>9</td>\n",
              "      <td>18</td>\n",
              "      <td>126.0</td>\n",
              "      <td>...</td>\n",
              "      <td>5</td>\n",
              "      <td>18</td>\n",
              "      <td>16</td>\n",
              "      <td>10</td>\n",
              "      <td>0</td>\n",
              "      <td>0.0</td>\n",
              "      <td>0.0</td>\n",
              "      <td>11</td>\n",
              "      <td>11</td>\n",
              "      <td>1</td>\n",
              "    </tr>\n",
              "    <tr>\n",
              "      <th>234</th>\n",
              "      <td>61.0</td>\n",
              "      <td>207.0</td>\n",
              "      <td>138.0</td>\n",
              "      <td>1.0</td>\n",
              "      <td>12</td>\n",
              "      <td>5</td>\n",
              "      <td>4</td>\n",
              "      <td>13</td>\n",
              "      <td>22</td>\n",
              "      <td>140.0</td>\n",
              "      <td>...</td>\n",
              "      <td>6</td>\n",
              "      <td>20</td>\n",
              "      <td>14</td>\n",
              "      <td>11</td>\n",
              "      <td>0</td>\n",
              "      <td>1.9</td>\n",
              "      <td>4.0</td>\n",
              "      <td>13</td>\n",
              "      <td>9</td>\n",
              "      <td>1</td>\n",
              "    </tr>\n",
              "    <tr>\n",
              "      <th>85</th>\n",
              "      <td>66.0</td>\n",
              "      <td>302.0</td>\n",
              "      <td>151.0</td>\n",
              "      <td>0.0</td>\n",
              "      <td>9</td>\n",
              "      <td>4</td>\n",
              "      <td>1</td>\n",
              "      <td>1</td>\n",
              "      <td>10</td>\n",
              "      <td>120.0</td>\n",
              "      <td>...</td>\n",
              "      <td>0</td>\n",
              "      <td>10</td>\n",
              "      <td>9</td>\n",
              "      <td>5</td>\n",
              "      <td>0</td>\n",
              "      <td>0.4</td>\n",
              "      <td>1.0</td>\n",
              "      <td>11</td>\n",
              "      <td>11</td>\n",
              "      <td>0</td>\n",
              "    </tr>\n",
              "    <tr>\n",
              "      <th>70</th>\n",
              "      <td>65.0</td>\n",
              "      <td>360.0</td>\n",
              "      <td>151.0</td>\n",
              "      <td>0.0</td>\n",
              "      <td>2</td>\n",
              "      <td>0</td>\n",
              "      <td>2</td>\n",
              "      <td>2</td>\n",
              "      <td>11</td>\n",
              "      <td>160.0</td>\n",
              "      <td>...</td>\n",
              "      <td>0</td>\n",
              "      <td>14</td>\n",
              "      <td>11</td>\n",
              "      <td>5</td>\n",
              "      <td>2</td>\n",
              "      <td>0.8</td>\n",
              "      <td>2.0</td>\n",
              "      <td>6</td>\n",
              "      <td>6</td>\n",
              "      <td>0</td>\n",
              "    </tr>\n",
              "  </tbody>\n",
              "</table>\n",
              "<p>5 rows × 26 columns</p>\n",
              "</div>\n",
              "      <button class=\"colab-df-convert\" onclick=\"convertToInteractive('df-24df1cd0-2fb2-4219-ac79-f3c6db60abc4')\"\n",
              "              title=\"Convert this dataframe to an interactive table.\"\n",
              "              style=\"display:none;\">\n",
              "        \n",
              "  <svg xmlns=\"http://www.w3.org/2000/svg\" height=\"24px\"viewBox=\"0 0 24 24\"\n",
              "       width=\"24px\">\n",
              "    <path d=\"M0 0h24v24H0V0z\" fill=\"none\"/>\n",
              "    <path d=\"M18.56 5.44l.94 2.06.94-2.06 2.06-.94-2.06-.94-.94-2.06-.94 2.06-2.06.94zm-11 1L8.5 8.5l.94-2.06 2.06-.94-2.06-.94L8.5 2.5l-.94 2.06-2.06.94zm10 10l.94 2.06.94-2.06 2.06-.94-2.06-.94-.94-2.06-.94 2.06-2.06.94z\"/><path d=\"M17.41 7.96l-1.37-1.37c-.4-.4-.92-.59-1.43-.59-.52 0-1.04.2-1.43.59L10.3 9.45l-7.72 7.72c-.78.78-.78 2.05 0 2.83L4 21.41c.39.39.9.59 1.41.59.51 0 1.02-.2 1.41-.59l7.78-7.78 2.81-2.81c.8-.78.8-2.07 0-2.86zM5.41 20L4 18.59l7.72-7.72 1.47 1.35L5.41 20z\"/>\n",
              "  </svg>\n",
              "      </button>\n",
              "      \n",
              "  <style>\n",
              "    .colab-df-container {\n",
              "      display:flex;\n",
              "      flex-wrap:wrap;\n",
              "      gap: 12px;\n",
              "    }\n",
              "\n",
              "    .colab-df-convert {\n",
              "      background-color: #E8F0FE;\n",
              "      border: none;\n",
              "      border-radius: 50%;\n",
              "      cursor: pointer;\n",
              "      display: none;\n",
              "      fill: #1967D2;\n",
              "      height: 32px;\n",
              "      padding: 0 0 0 0;\n",
              "      width: 32px;\n",
              "    }\n",
              "\n",
              "    .colab-df-convert:hover {\n",
              "      background-color: #E2EBFA;\n",
              "      box-shadow: 0px 1px 2px rgba(60, 64, 67, 0.3), 0px 1px 3px 1px rgba(60, 64, 67, 0.15);\n",
              "      fill: #174EA6;\n",
              "    }\n",
              "\n",
              "    [theme=dark] .colab-df-convert {\n",
              "      background-color: #3B4455;\n",
              "      fill: #D2E3FC;\n",
              "    }\n",
              "\n",
              "    [theme=dark] .colab-df-convert:hover {\n",
              "      background-color: #434B5C;\n",
              "      box-shadow: 0px 1px 3px 1px rgba(0, 0, 0, 0.15);\n",
              "      filter: drop-shadow(0px 1px 2px rgba(0, 0, 0, 0.3));\n",
              "      fill: #FFFFFF;\n",
              "    }\n",
              "  </style>\n",
              "\n",
              "      <script>\n",
              "        const buttonEl =\n",
              "          document.querySelector('#df-24df1cd0-2fb2-4219-ac79-f3c6db60abc4 button.colab-df-convert');\n",
              "        buttonEl.style.display =\n",
              "          google.colab.kernel.accessAllowed ? 'block' : 'none';\n",
              "\n",
              "        async function convertToInteractive(key) {\n",
              "          const element = document.querySelector('#df-24df1cd0-2fb2-4219-ac79-f3c6db60abc4');\n",
              "          const dataTable =\n",
              "            await google.colab.kernel.invokeFunction('convertToInteractive',\n",
              "                                                     [key], {});\n",
              "          if (!dataTable) return;\n",
              "\n",
              "          const docLinkHtml = 'Like what you see? Visit the ' +\n",
              "            '<a target=\"_blank\" href=https://colab.research.google.com/notebooks/data_table.ipynb>data table notebook</a>'\n",
              "            + ' to learn more about interactive tables.';\n",
              "          element.innerHTML = '';\n",
              "          dataTable['output_type'] = 'display_data';\n",
              "          await google.colab.output.renderOutput(dataTable, element);\n",
              "          const docLink = document.createElement('div');\n",
              "          docLink.innerHTML = docLinkHtml;\n",
              "          element.appendChild(docLink);\n",
              "        }\n",
              "      </script>\n",
              "    </div>\n",
              "  </div>\n",
              "  "
            ]
          },
          "metadata": {},
          "execution_count": 257
        }
      ],
      "source": [
        "df = df_fs\n",
        "print(f\"Shape: {df.shape}\")\n",
        "df.sample(5)"
      ]
    },
    {
      "cell_type": "code",
      "execution_count": 258,
      "metadata": {
        "colab": {
          "base_uri": "https://localhost:8080/"
        },
        "id": "DrkqTZYxAjd8",
        "outputId": "25406ef2-8a53-4c5e-8867-9a87e9d31c8c"
      },
      "outputs": [
        {
          "output_type": "stream",
          "name": "stdout",
          "text": [
            "X shape: (283, 25)\n",
            "y shape: (283,)\n"
          ]
        }
      ],
      "source": [
        "X = df.drop('target',axis=1)\n",
        "y = df.target\n",
        "\n",
        "print(f\"X shape: {X.shape}\")\n",
        "print(f\"y shape: {y.shape}\")"
      ]
    },
    {
      "cell_type": "code",
      "execution_count": 259,
      "metadata": {
        "colab": {
          "base_uri": "https://localhost:8080/",
          "height": 847
        },
        "id": "Lr4tdTsTAu7s",
        "outputId": "2e3d9a1e-d54f-4f0f-a617-0251db33240f"
      },
      "outputs": [
        {
          "output_type": "error",
          "ename": "TypeError",
          "evalue": "ignored",
          "traceback": [
            "\u001b[0;31m---------------------------------------------------------------------------\u001b[0m",
            "\u001b[0;31mTypeError\u001b[0m                                 Traceback (most recent call last)",
            "\u001b[0;32m<ipython-input-259-e40e3bbf4763>\u001b[0m in \u001b[0;36m<module>\u001b[0;34m()\u001b[0m\n\u001b[1;32m     17\u001b[0m \u001b[0;32mfor\u001b[0m \u001b[0mlabel\u001b[0m\u001b[0;34m,\u001b[0m \u001b[0m_\u001b[0m \u001b[0;32min\u001b[0m \u001b[0mcounter\u001b[0m\u001b[0;34m.\u001b[0m\u001b[0mitems\u001b[0m\u001b[0;34m(\u001b[0m\u001b[0;34m)\u001b[0m\u001b[0;34m:\u001b[0m\u001b[0;34m\u001b[0m\u001b[0;34m\u001b[0m\u001b[0m\n\u001b[1;32m     18\u001b[0m         \u001b[0mrow_ix\u001b[0m \u001b[0;34m=\u001b[0m \u001b[0mnp\u001b[0m\u001b[0;34m.\u001b[0m\u001b[0mwhere\u001b[0m\u001b[0;34m(\u001b[0m\u001b[0my_over\u001b[0m \u001b[0;34m==\u001b[0m \u001b[0mlabel\u001b[0m\u001b[0;34m)\u001b[0m\u001b[0;34m[\u001b[0m\u001b[0;36m0\u001b[0m\u001b[0;34m]\u001b[0m\u001b[0;34m\u001b[0m\u001b[0;34m\u001b[0m\u001b[0m\n\u001b[0;32m---> 19\u001b[0;31m         \u001b[0max\u001b[0m\u001b[0;34m[\u001b[0m\u001b[0;36m1\u001b[0m\u001b[0;34m]\u001b[0m\u001b[0;34m.\u001b[0m\u001b[0mscatter\u001b[0m\u001b[0;34m(\u001b[0m\u001b[0mX_over\u001b[0m\u001b[0;34m[\u001b[0m\u001b[0mrow_ix\u001b[0m\u001b[0;34m,\u001b[0m \u001b[0;36m0\u001b[0m\u001b[0;34m]\u001b[0m\u001b[0;34m,\u001b[0m \u001b[0mX_over\u001b[0m\u001b[0;34m[\u001b[0m\u001b[0mrow_ix\u001b[0m\u001b[0;34m,\u001b[0m \u001b[0;36m1\u001b[0m\u001b[0;34m]\u001b[0m\u001b[0;34m,\u001b[0m \u001b[0mlabel\u001b[0m\u001b[0;34m=\u001b[0m\u001b[0mstr\u001b[0m\u001b[0;34m(\u001b[0m\u001b[0mlabel\u001b[0m\u001b[0;34m)\u001b[0m\u001b[0;34m)\u001b[0m\u001b[0;34m;\u001b[0m\u001b[0;34m\u001b[0m\u001b[0;34m\u001b[0m\u001b[0m\n\u001b[0m\u001b[1;32m     20\u001b[0m \u001b[0;34m\u001b[0m\u001b[0m\n\u001b[1;32m     21\u001b[0m \u001b[0max\u001b[0m\u001b[0;34m[\u001b[0m\u001b[0;36m1\u001b[0m\u001b[0;34m]\u001b[0m\u001b[0;34m.\u001b[0m\u001b[0mlegend\u001b[0m\u001b[0;34m(\u001b[0m\u001b[0;34m)\u001b[0m\u001b[0;34m;\u001b[0m\u001b[0;34m\u001b[0m\u001b[0;34m\u001b[0m\u001b[0m\n",
            "\u001b[0;32m/usr/local/lib/python3.7/dist-packages/pandas/core/frame.py\u001b[0m in \u001b[0;36m__getitem__\u001b[0;34m(self, key)\u001b[0m\n\u001b[1;32m   3456\u001b[0m             \u001b[0;32mif\u001b[0m \u001b[0mself\u001b[0m\u001b[0;34m.\u001b[0m\u001b[0mcolumns\u001b[0m\u001b[0;34m.\u001b[0m\u001b[0mnlevels\u001b[0m \u001b[0;34m>\u001b[0m \u001b[0;36m1\u001b[0m\u001b[0;34m:\u001b[0m\u001b[0;34m\u001b[0m\u001b[0;34m\u001b[0m\u001b[0m\n\u001b[1;32m   3457\u001b[0m                 \u001b[0;32mreturn\u001b[0m \u001b[0mself\u001b[0m\u001b[0;34m.\u001b[0m\u001b[0m_getitem_multilevel\u001b[0m\u001b[0;34m(\u001b[0m\u001b[0mkey\u001b[0m\u001b[0;34m)\u001b[0m\u001b[0;34m\u001b[0m\u001b[0;34m\u001b[0m\u001b[0m\n\u001b[0;32m-> 3458\u001b[0;31m             \u001b[0mindexer\u001b[0m \u001b[0;34m=\u001b[0m \u001b[0mself\u001b[0m\u001b[0;34m.\u001b[0m\u001b[0mcolumns\u001b[0m\u001b[0;34m.\u001b[0m\u001b[0mget_loc\u001b[0m\u001b[0;34m(\u001b[0m\u001b[0mkey\u001b[0m\u001b[0;34m)\u001b[0m\u001b[0;34m\u001b[0m\u001b[0;34m\u001b[0m\u001b[0m\n\u001b[0m\u001b[1;32m   3459\u001b[0m             \u001b[0;32mif\u001b[0m \u001b[0mis_integer\u001b[0m\u001b[0;34m(\u001b[0m\u001b[0mindexer\u001b[0m\u001b[0;34m)\u001b[0m\u001b[0;34m:\u001b[0m\u001b[0;34m\u001b[0m\u001b[0;34m\u001b[0m\u001b[0m\n\u001b[1;32m   3460\u001b[0m                 \u001b[0mindexer\u001b[0m \u001b[0;34m=\u001b[0m \u001b[0;34m[\u001b[0m\u001b[0mindexer\u001b[0m\u001b[0;34m]\u001b[0m\u001b[0;34m\u001b[0m\u001b[0;34m\u001b[0m\u001b[0m\n",
            "\u001b[0;32m/usr/local/lib/python3.7/dist-packages/pandas/core/indexes/base.py\u001b[0m in \u001b[0;36mget_loc\u001b[0;34m(self, key, method, tolerance)\u001b[0m\n\u001b[1;32m   3359\u001b[0m             \u001b[0mcasted_key\u001b[0m \u001b[0;34m=\u001b[0m \u001b[0mself\u001b[0m\u001b[0;34m.\u001b[0m\u001b[0m_maybe_cast_indexer\u001b[0m\u001b[0;34m(\u001b[0m\u001b[0mkey\u001b[0m\u001b[0;34m)\u001b[0m\u001b[0;34m\u001b[0m\u001b[0;34m\u001b[0m\u001b[0m\n\u001b[1;32m   3360\u001b[0m             \u001b[0;32mtry\u001b[0m\u001b[0;34m:\u001b[0m\u001b[0;34m\u001b[0m\u001b[0;34m\u001b[0m\u001b[0m\n\u001b[0;32m-> 3361\u001b[0;31m                 \u001b[0;32mreturn\u001b[0m \u001b[0mself\u001b[0m\u001b[0;34m.\u001b[0m\u001b[0m_engine\u001b[0m\u001b[0;34m.\u001b[0m\u001b[0mget_loc\u001b[0m\u001b[0;34m(\u001b[0m\u001b[0mcasted_key\u001b[0m\u001b[0;34m)\u001b[0m\u001b[0;34m\u001b[0m\u001b[0;34m\u001b[0m\u001b[0m\n\u001b[0m\u001b[1;32m   3362\u001b[0m             \u001b[0;32mexcept\u001b[0m \u001b[0mKeyError\u001b[0m \u001b[0;32mas\u001b[0m \u001b[0merr\u001b[0m\u001b[0;34m:\u001b[0m\u001b[0;34m\u001b[0m\u001b[0;34m\u001b[0m\u001b[0m\n\u001b[1;32m   3363\u001b[0m                 \u001b[0;32mraise\u001b[0m \u001b[0mKeyError\u001b[0m\u001b[0;34m(\u001b[0m\u001b[0mkey\u001b[0m\u001b[0;34m)\u001b[0m \u001b[0;32mfrom\u001b[0m \u001b[0merr\u001b[0m\u001b[0;34m\u001b[0m\u001b[0;34m\u001b[0m\u001b[0m\n",
            "\u001b[0;32m/usr/local/lib/python3.7/dist-packages/pandas/_libs/index.pyx\u001b[0m in \u001b[0;36mpandas._libs.index.IndexEngine.get_loc\u001b[0;34m()\u001b[0m\n",
            "\u001b[0;32m/usr/local/lib/python3.7/dist-packages/pandas/_libs/index.pyx\u001b[0m in \u001b[0;36mpandas._libs.index.IndexEngine.get_loc\u001b[0;34m()\u001b[0m\n",
            "\u001b[0;31mTypeError\u001b[0m: '(array([  0,   3,   4,   5,   7,  10,  11,  13,  14,  15,  16,  20,  21,\n        22,  23,  25,  28,  29,  30,  34,  36,  37,  38,  41,  43,  44,\n        45,  47,  52,  53,  55,  57,  61,  64,  69,  71,  72,  74,  75,\n        76,  77,  78,  79,  80,  81,  82,  83,  84,  85,  86,  90,  91,\n        92,  97, 100, 101, 102, 106, 107, 108, 109, 110, 114, 115, 117,\n       119, 122, 123, 124, 125, 126, 133, 135, 137, 138, 141, 143, 144,\n       146, 147, 148, 149, 152, 155, 157, 158, 159, 161, 162, 163, 164,\n       168, 170, 172, 174, 175, 176, 177, 178, 179, 180, 181, 185, 186,\n       187, 190, 194, 195, 196, 197, 198, 200, 204, 205, 207, 208, 209,\n       210, 211, 212, 213, 217, 219, 221, 223, 224, 225, 227, 229, 231,\n       233, 234, 238, 246, 247, 249, 251, 252, 253, 254, 255, 257, 261,\n       263, 264, 265, 266, 267, 269, 270, 273, 274, 276, 277, 278, 279,\n       281, 282]), 0)' is an invalid key"
          ]
        },
        {
          "output_type": "display_data",
          "data": {
            "text/plain": [
              "<Figure size 1440x432 with 2 Axes>"
            ],
            "image/png": "[encoded data removed]"
          },
          "metadata": {}
        }
      ],
      "source": [
        "fig,ax = plt.subplots(1,2, figsize = (20,6))\n",
        "\n",
        "counter = Counter(y)\n",
        "# print(counter)\n",
        "X_p = X.values\n",
        "\n",
        "for label, _ in counter.items():\n",
        "\trow_ix = np.where(y == label)[0]\n",
        "\tax[0].scatter(X_p[row_ix, 0], X_p[row_ix, 1], label=str(label));\n",
        "ax[0].legend();\n",
        "\n",
        "oversample = SMOTE()\n",
        "X_over, y_over = oversample.fit_resample(X, y)\n",
        "counter = Counter(y_over)\n",
        "# print(counter)\n",
        "\n",
        "for label, _ in counter.items():\n",
        "\trow_ix = np.where(y_over == label)[0]\n",
        "\tax[1].scatter(X_over[row_ix, 0], X_over[row_ix, 1], label=str(label));\n",
        "\n",
        "ax[1].legend();\n",
        "ax[0].set_title(\"Before Oversampling\");\n",
        "ax[1].set_title(\"After Oversampling\");"
      ]
    },
    {
      "cell_type": "code",
      "execution_count": null,
      "metadata": {
        "id": "hWGxoobSCyJZ"
      },
      "outputs": [],
      "source": [
        "X_train, X_test, y_train, y_test = train_test_split(X_over, y_over, test_size=0.20, random_state = 0)\n",
        "print(f\"X_train shape: {X_train.shape}\")\n",
        "print(f\"X_test shape: {X_test.shape}\")\n",
        "print(f\"y_train shape: {y_train.shape}\")\n",
        "print(f\"y_test shape: {y_test.shape}\")"
      ]
    },
    {
      "cell_type": "code",
      "execution_count": null,
      "metadata": {
        "id": "U1-lwHRcFBTp"
      },
      "outputs": [],
      "source": [
        "scaler = StandardScaler()\n",
        "X_train = scaler.fit_transform(X_train)\n",
        "X_test = scaler.transform(X_test)"
      ]
    },
    {
      "cell_type": "code",
      "execution_count": null,
      "metadata": {
        "id": "QgWTW8GtFWky"
      },
      "outputs": [],
      "source": [
        "f1_score_models = {}\n",
        "auc_score_models = {}\n",
        "acc_score_models = {}\n",
        "def plot_roc_cm(model_name,cm,n_classes, fpr, tpr, roc_auc,class_report_df,average = \"macro\"):\n",
        "\n",
        "  fig,ax = plt.subplots(1,3,figsize=(25,6))\n",
        "  if average == \"micro\":\n",
        "    \n",
        "    ax[2].plot(fpr['avg / total'], tpr['avg / total'],\n",
        "        label='micro-average ROC curve (area = {0:0.2f})'\n",
        "              ''.format(roc_auc['avg / total']),\n",
        "        color='violet', linestyle='-', linewidth=4)\n",
        "\n",
        "  else:\n",
        "    \n",
        "    ax[2].plot(fpr[average], tpr[average],\n",
        "        label='macro-average ROC curve (area = {0:0.2f})'\n",
        "              ''.format(roc_auc['avg / total']),\n",
        "        color='violet', linestyle='-', linewidth=4)\n",
        "\n",
        "  # plt.plot(fpr[\"macro\"], tpr[\"macro\"],\n",
        "  #         label='macro-average ROC curve (area = {0:0.2f})'\n",
        "  #               ''.format(roc_auc[\"macro\"]),\n",
        "  #         color='orange', linestyle=':', linewidth=4)\n",
        "  lw = 2\n",
        "  colors = cycle(['red', 'green', 'blue','purple','orange'])\n",
        "  mapping= {\n",
        "      0: 'H',\n",
        "      1:'S1',\n",
        "      2: 'S2',\n",
        "      3: 'S3',\n",
        "      4: 'S4'\n",
        "  }\n",
        "  for i, color in zip(range(n_classes), colors):\n",
        "      ax[2].plot(fpr[i], tpr[i], color=color, lw=lw,\n",
        "              label='ROC curve of class {0} (area = {1:0.2f})'\n",
        "              ''.format(mapping[i], roc_auc[i]))\n",
        "  labels = ['H','S1','S2','S3','S4','avg/total']\n",
        "  sns.heatmap(cm,ax=ax[0],annot=True)\n",
        "  ax[0].set_title(f\"Confusion Matrix for {model_name}\")\n",
        "  ax[0].set_xticklabels(labels[:-1], rotation=45, ha='left',weight='bold',fontsize = 14)\n",
        "  ax[0].set_yticklabels(labels[:-1], rotation=45, ha='right',weight='bold',fontsize = 14)\n",
        "  sns.heatmap(class_report_df.iloc[:,:].drop(['support','pred'],axis=1),annot=True,ax=ax[1])\n",
        "  ax[1].set_title(f'Classificaton report for {model_name}')\n",
        "\n",
        "  ax[1].set_xticklabels(ax[1].get_xticklabels(), rotation=45, ha='left',weight='bold',fontsize = 12)\n",
        "  ax[1].set_yticklabels(labels, rotation=45, ha='right',weight='bold',fontsize = 14)\n",
        "  # ax[1].set_xticklabels(rotation=45)\n",
        "  # ax[1].set_yticklabels(rotation=45, weight = 'bold')\n",
        "  ax[2].plot([0, 1], [0, 1], 'k--', lw=lw)\n",
        "  ax[2].axis(xmin=0.0,xmax=1,ymin=0,ymax=1.05)\n",
        "  \n",
        "  ax[2].set_xlabel('False Positive Rate',weight='bold',fontsize = 14)\n",
        "  ax[2].set_ylabel('True Positive Rate',weight='bold',fontsize = 14)\n",
        "  ax[2].set_title(f'ROC Curve for {model_name}')\n",
        "  ax[2].legend(loc=\"lower right\")\n",
        "  ax[2].set_xticklabels(ax[2].get_xticklabels(),weight='bold',fontsize = 10)\n",
        "  ax[2].set_yticklabels(ax[2].get_yticklabels(),weight='bold',fontsize = 10)\n",
        "\n",
        "\n",
        "def class_report(model_name,y_true, y_pred, y_score=None, average='macro'):\n",
        "    if y_true.shape != y_pred.shape:\n",
        "        print(\"Error! y_true %s is not the same shape as y_pred %s\" % (\n",
        "              y_true.shape,\n",
        "              y_pred.shape)\n",
        "        )\n",
        "        return\n",
        "    cm = confusion_matrix(y_true, y_pred)\n",
        "    \n",
        "    lb = LabelBinarizer()\n",
        "\n",
        "    if len(y_true.shape) == 1:\n",
        "        lb.fit(y_true)\n",
        "\n",
        "    #Value counts of predictions\n",
        "    labels, cnt = np.unique(\n",
        "        y_pred,\n",
        "        return_counts=True)\n",
        "    n_classes = len(labels)\n",
        "    pred_cnt = pd.Series(cnt, index=labels)\n",
        "\n",
        "    metrics_summary = precision_recall_fscore_support(\n",
        "            y_true=y_true,\n",
        "            y_pred=y_pred,\n",
        "            labels=labels)\n",
        "\n",
        "    avg = list(precision_recall_fscore_support(\n",
        "            y_true=y_true, \n",
        "            y_pred=y_pred,\n",
        "            average='weighted'))\n",
        "\n",
        "    metrics_sum_index = ['precision', 'recall', 'f1-score', 'support']\n",
        "    class_report_df = pd.DataFrame(\n",
        "        list(metrics_summary),\n",
        "        index=metrics_sum_index,\n",
        "        columns=labels)\n",
        "\n",
        "    support = class_report_df.loc['support']\n",
        "    total = support.sum() \n",
        "    class_report_df['avg / total'] = avg[:-1] + [total]\n",
        "\n",
        "    class_report_df = class_report_df.T\n",
        "    class_report_df['pred'] = pred_cnt\n",
        "    class_report_df['pred'].iloc[-1] = total\n",
        "\n",
        "    if not (y_score is None):\n",
        "        fpr = dict()\n",
        "        tpr = dict()\n",
        "        roc_auc = dict()\n",
        "        for label_it, label in enumerate(labels):\n",
        "            fpr[label], tpr[label], _ = roc_curve(\n",
        "                (y_true == label).astype(int), \n",
        "                y_score[:, label_it])\n",
        "\n",
        "            roc_auc[label] = auc(fpr[label], tpr[label])\n",
        "\n",
        "        if average == 'micro':\n",
        "            if n_classes <= 2:\n",
        "                fpr[\"avg / total\"], tpr[\"avg / total\"], _ = roc_curve(\n",
        "                    lb.transform(y_true).ravel(), \n",
        "                    y_score[:, 1].ravel())\n",
        "            else:\n",
        "                fpr[\"avg / total\"], tpr[\"avg / total\"], _ = roc_curve(\n",
        "                        lb.transform(y_true).ravel(), \n",
        "                        y_score.ravel())\n",
        "\n",
        "            roc_auc[\"avg / total\"] = auc(\n",
        "                fpr[\"avg / total\"], \n",
        "                tpr[\"avg / total\"])\n",
        "\n",
        "        elif average == 'macro':\n",
        "            # First aggregate all false positive rates\n",
        "            all_fpr = np.unique(np.concatenate([\n",
        "                fpr[i] for i in labels]\n",
        "            ))\n",
        "\n",
        "            # Then interpolate all ROC curves at this points\n",
        "            mean_tpr = np.zeros_like(all_fpr)\n",
        "            for i in labels:\n",
        "                mean_tpr += interp(all_fpr, fpr[i], tpr[i])\n",
        "\n",
        "            # Finally average it and compute AUC\n",
        "            mean_tpr /= n_classes\n",
        "\n",
        "            fpr[\"macro\"] = all_fpr\n",
        "            tpr[\"macro\"] = mean_tpr\n",
        "            \n",
        "            roc_auc[\"avg / total\"] = auc(fpr[\"macro\"], tpr[\"macro\"])\n",
        "\n",
        "        ac_score = (cm.diagonal()/cm.sum(axis=1)).tolist()\n",
        "        \n",
        "        class_report_df['Accuracy'] = pd.Series(ac_score)\n",
        "        class_report_df.loc['avg / total','Accuracy'] = accuracy_score(y_true,y_pred)\n",
        "        # np.append(ac_score,accuracy_score(y_true,y_pred))\n",
        "        # class_report_df['Accuracy']  = pd.Series(ac_score)\n",
        "        # class_report_df['AUC'] = pd.Series(roc_auc)\n",
        "        \n",
        "    \n",
        "    # for score in ac_score:\n",
        "    #   print(score)\n",
        "\n",
        "    # print(accuracy_score(y_true,y_pred))\n",
        "    plot_roc_cm(model_name,cm,n_classes,fpr,tpr,roc_auc,class_report_df,average)\n",
        "    return class_report_df\n",
        "\n",
        "def kfold(model,n_splits,X,y):\n",
        "  kf = StratifiedKFold(n_splits=n_splits,shuffle=True,random_state=0)\n",
        "  cv_score_auc =[]\n",
        "  cv_score_f1 = []\n",
        "  i=1\n",
        "  for train_index,test_index in kf.split(X,y):\n",
        "      \n",
        "      xtr,xvl = X[train_index],X[test_index]\n",
        "      ytr,yvl = y[train_index],y[test_index]\n",
        "      \n",
        "      #model\n",
        "      model.fit(xtr,ytr)\n",
        "      score_auc = roc_auc_score(yvl,model.predict_proba(xvl),multi_class='ovr',average='macro')\n",
        "      score_f1 = f1_score(yvl,model.predict(xvl),average='macro')\n",
        "      # print('ROC AUC score:',score_auc)\n",
        "      # print('F1 score: ', score_f1)\n",
        "      cv_score_auc.append(score_auc)\n",
        "      cv_score_f1.append(score_f1)\n",
        "      # pred_test = lr.predict_proba(X_test)[:,1]\n",
        "      # pred_test_full +=pred_test\n",
        "      i+=1\n",
        "\n",
        "  return cv_score_f1, cv_score_auc\n",
        "\n",
        "def grid_search(estimator, params, X_train,y_train,cv=10):\n",
        "  grid = GridSearchCV(estimator=estimator, param_grid=params, cv=cv, refit = True)\n",
        "  grid.fit(X_train, y_train)\n",
        "  print(f'Best params : {grid.best_params_}')\n",
        "  print(f'Best score: {grid.best_score_}')"
      ]
    },
    {
      "cell_type": "code",
      "execution_count": null,
      "metadata": {
        "id": "8aRkZa3UIKbZ"
      },
      "outputs": [],
      "source": [
        "params = {'penalty': ['l1', 'l2'],'C':[0.001,.009,0.01,.09,1,5,10,25]}\n",
        "est = LogisticRegression(multi_class = 'ovr')\n",
        "grid_search(est, params, X_train, y_train)"
      ]
    },
    {
      "cell_type": "code",
      "execution_count": null,
      "metadata": {
        "id": "NCmnYH0VJsjE"
      },
      "outputs": [],
      "source": [
        "lr = LogisticRegression(multi_class = 'ovr',C=25, penalty = 'l2')\n",
        "f1_array,auc_array = kfold(lr, 10, X_over, y_over)\n",
        "f1_score_models['Logistic Regression'] = np.mean(f1_array)\n",
        "auc_score_models['Logistic Regression'] = np.mean(auc_array)\n",
        "plt.figure(figsize = (10,6))\n",
        "plt.plot(auc_array,label = 'macro ROC');\n",
        "plt.plot(f1_array, label = 'macro F-1 score');\n",
        "plt.title(\"Logistic Regression K-fold cross validation\")\n",
        "plt.legend();"
      ]
    },
    {
      "cell_type": "code",
      "execution_count": null,
      "metadata": {
        "id": "PtheRT68KOGP"
      },
      "outputs": [],
      "source": [
        "model = LogisticRegression(multi_class = 'ovr',C=25, penalty = 'l2')\n",
        "model = model.fit(X_train, y_train)\n",
        "report_with_auc = class_report(\n",
        "    model_name = 'Logistic Regression',\n",
        "    y_true=y_test, \n",
        "    y_pred=model.predict(X_test), \n",
        "    y_score=model.predict_proba(X_test),\n",
        "    average='macro')\n",
        "acc_score_models['Logistic Regression'] = report_with_auc.loc['avg / total','Accuracy']"
      ]
    },
    {
      "cell_type": "code",
      "execution_count": null,
      "metadata": {
        "id": "Q6Dp6rmYKa6F"
      },
      "outputs": [],
      "source": [
        "model2 = 'Naive Bayes'\n",
        "model2 = GaussianNB()\n",
        "f1_array,auc_array = kfold(model2, 10, X_over, y_over)\n",
        "f1_score_models['Naive Bayes'] = np.mean(f1_array)\n",
        "auc_score_models['Naive Bayes'] = np.mean(auc_array)\n",
        "plt.figure(figsize = (10,6))\n",
        "plt.plot(auc_array,label = 'macro ROC');\n",
        "plt.plot(f1_array, label = 'macro F-1 score');\n",
        "plt.title(\"Naive Bayes K-fold cross validation\")\n",
        "plt.legend();"
      ]
    },
    {
      "cell_type": "code",
      "execution_count": null,
      "metadata": {
        "id": "19dVa2zNKw6i"
      },
      "outputs": [],
      "source": [
        "model2 = model2 = GaussianNB()\n",
        "model2 = model2.fit(X_train, y_train)\n",
        "report_with_auc = class_report(\n",
        "    model_name = 'Naive Bayes',\n",
        "    y_true=y_test, \n",
        "    y_pred=model2.predict(X_test), \n",
        "    y_score=model2.predict_proba(X_test),\n",
        "    average='macro')\n",
        "acc_score_models['Naive Bayes'] = report_with_auc.loc['avg / total','Accuracy']"
      ]
    },
    {
      "cell_type": "code",
      "execution_count": null,
      "metadata": {
        "id": "vuGcLrCMLbGW"
      },
      "outputs": [],
      "source": [
        "n_estimators = [10,100,200,500]\n",
        "criterion = ['gini', 'entropy']\n",
        "params = {\n",
        "    'n_estimators': n_estimators,\n",
        "    'criterion': criterion,\n",
        "    'max_features': ['sqrt', 'log2'],\n",
        "}\n",
        "est = RandomForestClassifier(n_estimators=5)\n",
        "grid_search(est,params,X_train,y_train)"
      ]
    },
    {
      "cell_type": "markdown",
      "metadata": {
        "id": "-EMdYgMiNBnA"
      },
      "source": [
        "### ***10-fold CV***"
      ]
    },
    {
      "cell_type": "code",
      "execution_count": null,
      "metadata": {
        "id": "UZn8G8C9K35z"
      },
      "outputs": [],
      "source": [
        "model3 = 'Random Forest'\n",
        "model3 = RandomForestClassifier(n_estimators=500,criterion='entropy',max_features='log2')\n",
        "f1_array,auc_array = kfold(model3, 10, X_over, y_over)\n",
        "f1_score_models['Random Forest'] = np.mean(f1_array)\n",
        "auc_score_models['Random Forest'] = np.mean(auc_array)\n",
        "plt.figure(figsize = (10,6))\n",
        "plt.plot(auc_array,label = 'macro ROC');\n",
        "plt.plot(f1_array, label = 'macro F-1 score');\n",
        "plt.title(\"Random Forest cross validation\")\n",
        "plt.legend();"
      ]
    },
    {
      "cell_type": "code",
      "execution_count": null,
      "metadata": {
        "id": "jKKQs1g5NEvb"
      },
      "outputs": [],
      "source": [
        "m3 = 'Random Forest Classfier'\n",
        "model3 = RandomForestClassifier(n_estimators=500,max_features='log2',criterion='entropy')\n",
        "model3.fit(X_train,y_train)\n",
        "report_with_auc = class_report(\n",
        "    'Random Forest',\n",
        "    y_true=y_test, \n",
        "    y_pred=model3.predict(X_test), \n",
        "    y_score=model3.predict_proba(X_test),\n",
        "    average = 'macro')\n",
        "acc_score_models['Random Forest Classfier'] = report_with_auc.loc['avg / total','Accuracy']"
      ]
    },
    {
      "cell_type": "code",
      "execution_count": null,
      "metadata": {
        "id": "9HBlgkNIRogV"
      },
      "outputs": [],
      "source": [
        "criterion = ['gini', 'entropy']\n",
        "max_depth = [2,4,6,8,10,12]\n",
        "num_leafs = [1, 5, 10, 20, 50, 100]\n",
        "params = dict(criterion=criterion,\n",
        "              max_depth=max_depth,\n",
        "              max_leaf_nodes = num_leafs)\n",
        "\n",
        "est = DecisionTreeClassifier()\n",
        "grid_search(est,params,X_train,y_train)"
      ]
    },
    {
      "cell_type": "code",
      "execution_count": null,
      "metadata": {
        "id": "GF3L1eYeRtil"
      },
      "outputs": [],
      "source": [
        "model4 = 'Decision Tree'\n",
        "model4 = DecisionTreeClassifier(criterion = 'entropy',max_depth = 10, max_leaf_nodes=100)\n",
        "f1_array,auc_array = kfold(model4, 10, X_over, y_over)\n",
        "f1_score_models['DT'] = np.mean(f1_array)\n",
        "auc_score_models['DT'] = np.mean(auc_array)\n",
        "plt.figure(figsize = (10,6))\n",
        "plt.plot(auc_array,label = 'macro ROC');\n",
        "plt.plot(f1_array, label = 'macro F-1 score');\n",
        "plt.title(\"Decision Tree cross validation\")\n",
        "plt.legend();"
      ]
    },
    {
      "cell_type": "code",
      "execution_count": null,
      "metadata": {
        "id": "bf6JrJV8R2pY"
      },
      "outputs": [],
      "source": [
        "m6 = 'DecisionTreeClassifier'\n",
        "dt = DecisionTreeClassifier(criterion = 'entropy',random_state=0,max_depth = 12, max_leaf_nodes=100)\n",
        "dt.fit(X_train, y_train)\n",
        "report_with_auc = class_report(\n",
        "    'DecisionTreeClassifier',\n",
        "    y_true=y_test, \n",
        "    y_pred=dt.predict(X_test), \n",
        "    y_score=dt.predict_proba(X_test),\n",
        "    average = 'macro')\n",
        "acc_score_models['DT'] = report_with_auc.loc['avg / total','Accuracy']"
      ]
    },
    {
      "cell_type": "code",
      "execution_count": null,
      "metadata": {
        "id": "3csF4qFaO0oC"
      },
      "outputs": [],
      "source": [
        "# A parameter grid for XGBoost\n",
        "params = {\n",
        "        'n_estimators': [10,25,50]\n",
        "        'gamma': [0.5,2,5],\n",
        "        'colsample_bytree': [0.6, 0.8, 1.0],\n",
        "        'max_depth': [3, 4, 5]\n",
        "        }\n",
        "est = XGBClassifier(objective='multi:softmax',\n",
        "                    silent=True, nthread=1)\n",
        "grid_search(est,params,X_train,y_train)"
      ]
    },
    {
      "cell_type": "code",
      "execution_count": null,
      "metadata": {
        "id": "5cAv6mC4Qhop"
      },
      "outputs": [],
      "source": [
        "model4 = 'XGB'\n",
        "model4 = XGBClassifier(learning_rate=0.02, n_estimators=50, max_depth=15,gamma=0.6, subsample=0.52,colsample_bytree=0.6, \n",
        "                    reg_lambda=2, booster='dart', colsample_bylevel=0.6, colsample_bynode=0.5,objective='multi:softmax')\n",
        "f1_array,auc_array = kfold(model4, 10, X_over, y_over)\n",
        "f1_score_models['XGB'] = np.mean(f1_array)\n",
        "auc_score_models['XGB'] = np.mean(auc_array)\n",
        "plt.figure(figsize = (10,6))\n",
        "plt.plot(auc_array,label = 'macro ROC');\n",
        "plt.plot(f1_array, label = 'macro F-1 score');\n",
        "plt.title(\"XGB cross validation\")\n",
        "plt.legend();"
      ]
    },
    {
      "cell_type": "code",
      "execution_count": null,
      "metadata": {
        "id": "AhV_VXTEP1HN"
      },
      "outputs": [],
      "source": [
        "m4 = 'Extreme Gradient Boost'\n",
        "xgb = XGBClassifier(learning_rate=0.02, n_estimators=50, max_depth=15,gamma=0.6, subsample=0.52,colsample_bytree=0.6, \n",
        "                    reg_lambda=2, booster='dart', colsample_bylevel=0.6, colsample_bynode=0.5,objective='multi:softmax')\n",
        "xgb.fit(X_train, y_train)\n",
        "report_with_auc = class_report(\n",
        "    'XGB',\n",
        "    y_true=y_test, \n",
        "    y_pred=xgb.predict(X_test), \n",
        "    y_score=xgb.predict_proba(X_test),\n",
        "    average = 'macro')\n",
        "acc_score_models['XGB'] = report_with_auc.loc['avg / total','Accuracy']"
      ]
    },
    {
      "cell_type": "code",
      "execution_count": null,
      "metadata": {
        "id": "xmXaLWdtRWvR"
      },
      "outputs": [],
      "source": [
        "k_range = list(range(1,31))\n",
        "weight_options = [\"uniform\", \"distance\"]\n",
        "\n",
        "params = dict(n_neighbors = k_range, weights = weight_options)\n",
        "est = KNeighborsClassifier(n_neighbors=5)\n",
        "grid_search(est,params,X_train,y_train)"
      ]
    },
    {
      "cell_type": "code",
      "execution_count": null,
      "metadata": {
        "id": "yfZr1TK1Sm0o"
      },
      "outputs": [],
      "source": [
        "model5 = 'KNN'\n",
        "model5 = KNeighborsClassifier(n_neighbors=1,weights='uniform')\n",
        "f1_array,auc_array = kfold(model5, 10, X_over, y_over)\n",
        "f1_score_models['KNN'] = np.mean(f1_array)\n",
        "auc_score_models['KNN'] = np.mean(auc_array)\n",
        "plt.figure(figsize = (10,6))\n",
        "plt.plot(auc_array,label = 'macro ROC');\n",
        "plt.plot(f1_array, label = 'macro F-1 score');\n",
        "plt.title(\"KNN cross validation\")\n",
        "plt.legend();"
      ]
    },
    {
      "cell_type": "code",
      "execution_count": null,
      "metadata": {
        "id": "qxVN4QQNSww0"
      },
      "outputs": [],
      "source": [
        "m5 = 'K-NeighborsClassifier'\n",
        "knn = KNeighborsClassifier(n_neighbors=1,weights='uniform')\n",
        "knn.fit(X_train, y_train)\n",
        "report_with_auc = class_report(\n",
        "    'KNN',\n",
        "    y_true=y_test, \n",
        "    y_pred=knn.predict(X_test), \n",
        "    y_score=knn.predict_proba(X_test),\n",
        "    average = 'macro')\n",
        "acc_score_models['KNN'] = report_with_auc.loc['avg / total','Accuracy']"
      ]
    },
    {
      "cell_type": "code",
      "execution_count": null,
      "metadata": {
        "id": "HQS8UZh0S6Nv"
      },
      "outputs": [],
      "source": [
        "params = {'C':[0.001,0.1,10,100],'gamma':[1,0.1,0.001], 'kernel':['linear','rbf']}\n",
        "est = SVC(probability=True)\n",
        "grid_search(est,params,X_train,y_train)"
      ]
    },
    {
      "cell_type": "code",
      "execution_count": null,
      "metadata": {
        "id": "DdfLLnJuTJzg"
      },
      "outputs": [],
      "source": [
        "model6 = 'SVC'\n",
        "model6 = SVC(C=10, gamma=0.1, kernel='rbf',probability=True)\n",
        "f1_array,auc_array = kfold(model6, 10, X_over, y_over)\n",
        "f1_score_models['SVC'] = np.mean(f1_array)\n",
        "auc_score_models['SVC'] = np.mean(auc_array)\n",
        "plt.figure(figsize = (10,6))\n",
        "plt.plot(auc_array,label = 'macro ROC');\n",
        "plt.plot(f1_array, label = 'macro F-1 score');\n",
        "plt.title(\"SVC cross validation\")\n",
        "plt.legend();"
      ]
    },
    {
      "cell_type": "code",
      "execution_count": null,
      "metadata": {
        "id": "fBcHW1yzTR1y"
      },
      "outputs": [],
      "source": [
        "m7 = 'Support Vector Classifier'\n",
        "svc =  SVC(C=10, gamma=0.1, kernel='rbf',probability=True)\n",
        "svc.fit(X_train, y_train)\n",
        "report_with_auc = class_report(\n",
        "    'Support Vector Classifier',\n",
        "    y_true=y_test, \n",
        "    y_pred=svc.predict(X_test), \n",
        "    y_score=svc.predict_proba(X_test),\n",
        "    average = 'macro')\n",
        "acc_score_models['SVC'] = report_with_auc.loc['avg / total','Accuracy']"
      ]
    },
    {
      "cell_type": "code",
      "execution_count": null,
      "metadata": {
        "id": "Cx2KDIO9TU30"
      },
      "outputs": [],
      "source": [
        "params = {\n",
        "              \"n_estimators\": [100, 200],\n",
        "              'learning_rate': [0.01,0.1,0.5]\n",
        "             }\n",
        "est = AdaBoostClassifier( )\n",
        "grid_search(est,params,X_train,y_train)"
      ]
    },
    {
      "cell_type": "code",
      "execution_count": null,
      "metadata": {
        "id": "Nx26_4kpTdIg"
      },
      "outputs": [],
      "source": [
        "model6 = 'Adaboost'\n",
        "model7 = AdaBoostClassifier(n_estimators=200,learning_rate=0.5)\n",
        "f1_array,auc_array = kfold(model7, 10, X_over, y_over)\n",
        "f1_score_models['Adaboost'] = np.mean(f1_array)\n",
        "auc_score_models['Adaboost'] = np.mean(auc_array)\n",
        "plt.figure(figsize = (10,6))\n",
        "plt.plot(auc_array,label = 'macro ROC');\n",
        "plt.plot(f1_array, label = 'macro F-1 score');\n",
        "plt.title(\"Adaboost cross validation\")\n",
        "plt.legend();"
      ]
    },
    {
      "cell_type": "code",
      "execution_count": null,
      "metadata": {
        "id": "QpSLoZttTe3r"
      },
      "outputs": [],
      "source": [
        "m7 = 'Adaboost Classifier'\n",
        "m7 =  AdaBoostClassifier(n_estimators=200,learning_rate=0.5)\n",
        "m7.fit(X_train, y_train)\n",
        "report_with_auc = class_report(\n",
        "    'Adaboost Classifier',\n",
        "    y_true=y_test, \n",
        "    y_pred=m7.predict(X_test), \n",
        "    y_score=m7.predict_proba(X_test),\n",
        "    average = 'macro')\n",
        "acc_score_models['Adaboost'] = report_with_auc.loc['avg / total','Accuracy']"
      ]
    },
    {
      "cell_type": "code",
      "execution_count": null,
      "metadata": {
        "id": "61i4K2Z6Tk5H"
      },
      "outputs": [],
      "source": [
        "rf = RandomForestClassifier(n_estimators=500,max_features='log2',criterion='entropy')\n",
        "knn = KNeighborsClassifier(n_neighbors=1,weights='uniform')\n",
        "xgb = XGBClassifier(learning_rate=0.02, n_estimators=50, max_depth=15,gamma=0.6, subsample=0.52,colsample_bytree=0.6, \n",
        "                    reg_lambda=2, booster='dart', colsample_bylevel=0.6, colsample_bynode=0.5,objective='multi:softmax')\n",
        "\n",
        "dt = DecisionTreeClassifier(criterion = 'entropy',max_depth = 10, max_leaf_nodes=100)\n",
        "svc = SVC(C=10, gamma=0.1, kernel='rbf',probability=True)"
      ]
    },
    {
      "cell_type": "code",
      "execution_count": null,
      "metadata": {
        "id": "SZhSh89VTqY_"
      },
      "outputs": [],
      "source": [
        "v2 = VotingClassifier(estimators = [('rf',rf),('knn',knn),('xgb',xgb),('dt',dt), ('svc',svc)], voting='soft')\n",
        "f1_array,auc_array = kfold(v2, 10, X_over, y_over)\n",
        "f1_score_models['Voting'] = np.mean(f1_array)\n",
        "auc_score_models['Voting'] = np.mean(auc_array)\n",
        "plt.figure(figsize = (10,6))\n",
        "plt.plot(auc_array,label = 'macro ROC');\n",
        "plt.plot(f1_array, label = 'macro F-1 score');\n",
        "plt.title(\"Voting Classifier\")\n",
        "plt.legend();"
      ]
    },
    {
      "cell_type": "code",
      "execution_count": null,
      "metadata": {
        "id": "umAwWmLETtED"
      },
      "outputs": [],
      "source": [
        "m8 = 'Voting Classifier'\n",
        "m8 =  VotingClassifier(estimators = [('rf',rf),('knn',knn),('xgb',xgb),('dt',dt), ('svc',svc)], voting='soft')\n",
        "m8.fit(X_train, y_train)\n",
        "report_with_auc = class_report(\n",
        "    'Voting Classifier',\n",
        "    y_true=y_test, \n",
        "    y_pred=m8.predict(X_test), \n",
        "    y_score=m8.predict_proba(X_test),\n",
        "    average = 'macro')\n",
        "acc_score_models['Voting'] = report_with_auc.loc['avg / total','Accuracy']"
      ]
    },
    {
      "cell_type": "code",
      "execution_count": null,
      "metadata": {
        "id": "E_2AidPYT0tI"
      },
      "outputs": [],
      "source": [
        "s2 =  StackingClassifier(estimators = [('rf',rf),('knn',knn),('xgb',xgb),('dt',dt),('svc',svc)], final_estimator=LogisticRegression(multi_class = 'ovr',C=25, penalty = 'l2'),cv=10)\n",
        "f1_array,auc_array = kfold(s2, 10, X_over, y_over)\n",
        "f1_score_models['Stacking'] = np.mean(f1_array)\n",
        "auc_score_models['Stacking'] = np.mean(auc_array)\n",
        "plt.figure(figsize = (10,6))\n",
        "plt.plot(auc_array,label = 'macro ROC');\n",
        "plt.plot(f1_array, label = 'macro F-1 score');\n",
        "plt.title(\"Stacking Classifier\")\n",
        "plt.legend();"
      ]
    },
    {
      "cell_type": "code",
      "execution_count": null,
      "metadata": {
        "id": "qgwdNNoBT2SW"
      },
      "outputs": [],
      "source": [
        "m9 = 'Stacking Classifier'\n",
        "m9 =  StackingClassifier(estimators = [('rf',rf),('knn',knn),('xgb',xgb),('dt',dt),('svc',svc)], final_estimator=LogisticRegression(multi_class = 'ovr',C=25, penalty = 'l2'),cv=10)\n",
        "m9.fit(X_train, y_train)\n",
        "report_with_auc = class_report(\n",
        "    'Stacking Classifier',\n",
        "    y_true=y_test, \n",
        "    y_pred=m9.predict(X_test), \n",
        "    y_score=m9.predict_proba(X_test),\n",
        "    average = 'macro')\n",
        "acc_score_models['Stacking'] = report_with_auc.loc['avg / total','Accuracy']"
      ]
    },
    {
      "cell_type": "code",
      "execution_count": null,
      "metadata": {
        "id": "24DMpwX161dz"
      },
      "outputs": [],
      "source": [
        "models = list(f1_score_models.keys())\n",
        "f1_scores = list(f1_score_models.values())\n",
        "auc_scores = list(auc_score_models.values())\n",
        "accuracy_scores = list(acc_score_models.values())\n",
        "scores = {\n",
        "    \"Model\": models,\n",
        "    \"Accuracy\":accuracy_scores,\n",
        "    \"F1_Scores\": f1_scores,\n",
        "    \"AUC_Scores\": auc_scores\n",
        "}\n",
        "scores = pd.DataFrame(scores)\n",
        "scores"
      ]
    },
    {
      "cell_type": "code",
      "source": [
        "from google.colab import drive\n",
        "drive.mount('/content/drive')"
      ],
      "metadata": {
        "id": "SiBd0KY2fNaW"
      },
      "execution_count": null,
      "outputs": []
    },
    {
      "cell_type": "code",
      "execution_count": null,
      "metadata": {
        "id": "p0dxmC6A7CzF"
      },
      "outputs": [],
      "source": [
        "scores.sort_values(by = ['AUC_Scores','F1_Scores', 'Accuracy'],ascending=False)"
      ]
    },
    {
      "cell_type": "code",
      "execution_count": null,
      "metadata": {
        "id": "3aNsbwTe8OfX"
      },
      "outputs": [],
      "source": [
        "scores.set_index(\"Model\").sort_values(by = ['AUC_Scores','F1_Scores', 'Accuracy'],ascending=False)[:5].plot(figsize = (20,8));"
      ]
    },
    {
      "cell_type": "code",
      "execution_count": null,
      "metadata": {
        "id": "PdjtjK-XLjsu"
      },
      "outputs": [],
      "source": [
        ""
      ]
    }
  ],
  "metadata": {
    "colab": {
      "collapsed_sections": [
        "Q55XXo6SbCun",
        "xDOVwbtTcehy",
        "opbxIbLbcrbE",
        "JC1FHSqkdliQ",
        "mrfS58umnpio",
        "wZ4cWyu6oRyA",
        "RRJaFiWGoXli",
        "KEHmW6a3oglh",
        "YCMxNwwZo1fZ",
        "2Iwu1HORpb34",
        "Bhnuv-qltLxy",
        "HXskZlmptiwg",
        "HVke-vePuP4W",
        "AhlNtbdwvAS4",
        "UDjmYTQix1ho",
        "snBbKGx4yuzc",
        "cY8nQG2y0Su-",
        "xAjM0kTj1VPY",
        "c3bCPXVB3eiN",
        "cgNT6c986hUy",
        "7GUaHz1Y79po",
        "G-NYyn3j84OT",
        "k6Vkutiv9VT4",
        "oaiLsoFz9isf",
        "64DmQhgs9toO",
        "iqAYSIKh-AAV",
        "c7R_-Eyj-KfK",
        "-EMdYgMiNBnA"
      ],
      "name": "Classification.ipynb",
      "provenance": []
    },
    "kernelspec": {
      "display_name": "Python 3",
      "language": "python",
      "name": "python3"
    },
    "language_info": {
      "codemirror_mode": {
        "name": "ipython",
        "version": 3
      },
      "file_extension": ".py",
      "mimetype": "text/x-python",
      "name": "python",
      "nbconvert_exporter": "python",
      "pygments_lexer": "ipython3",
      "version": "3.7.6"
    }
  },
  "nbformat": 4,
  "nbformat_minor": 0
}